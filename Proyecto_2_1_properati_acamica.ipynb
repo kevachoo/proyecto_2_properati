{
  "nbformat": 4,
  "nbformat_minor": 0,
  "metadata": {
    "colab": {
      "name": "Proyecto 2.1.-properati-acamica.ipynb",
      "provenance": [],
      "toc_visible": true
    },
    "kernelspec": {
      "name": "python3",
      "display_name": "Python 3"
    }
  },
  "cells": [
    {
      "cell_type": "code",
      "metadata": {
        "id": "qp854RXbk9VK"
      },
      "source": [
        ""
      ],
      "execution_count": null,
      "outputs": []
    },
    {
      "cell_type": "markdown",
      "metadata": {
        "id": "egzAs89FlgWA"
      },
      "source": [
        "\n",
        "Proyecto 2 - Ingeniería de features, Modelos avanzados e Interpretación de modelos¶\n",
        "Análisis mercado inmobiliario en base a la empresa Properati\n",
        "DS-56 / Kevin Caballero / Marzo 2021\n",
        "\n",
        "\n",
        "Problema\n",
        "Recientemente te has incorporado al equipo de Datos de una gran inmobiliaria. La primera tarea que se te asigna es ayudar a los tasadores/as a valuar las propiedades, ya que es un proceso difícil y, a veces, subjetivo. Para ello, propones crear un modelo de Machine Learning que, dadas ciertas características de la propiedad, prediga su precio de venta.\n",
        "\n",
        "\n",
        "De ésta forma el proyecto tendrá tres partes:\n",
        "\n",
        "PARTE A - Transformación de Datos\n",
        "\n",
        "Elige cuáles de las siguientes tareas son apropiadas para su dataset. Justifica e implementa:\n",
        "\n",
        "Detección y eliminación de Outliers\n",
        "Encoding\n",
        "Imputación de valores faltantes\n",
        "Escalado de datos\n",
        "Generación de nuevas variables predictoras/reducción de dimensionalidad (SVD/PCA).\n",
        "Vuelve a entrenar el modelo implementado en la Entrega 01 - en particular, el árbol de decisión - y evalúa su desempeño a partir del dataset obtenido luego de transformar los datos. ¿Hay una mejora en su desempeño? Sea cual sea la respuesta, intenta explicar a qué se debe.\n",
        "\n",
        "PARTE B - Modelos Avanzados\n",
        "\n",
        "Elige dos de los modelos avanzados vistos (en el caso de regresión, considera una regresión lineal con atributos polinómicos y regularización). Entrénalos y evalúalos con sus argumentos por defecto. No te olvides de hacer un train/test split y usar Validación Cruzada.\n",
        "\n",
        "Optimiza sus hiperparámetros mediante Validación Cruzada y Grid Search o Random Search.\n",
        "\n",
        "Compara el desempeño de los nuevos modelos entre sí y con el modelo de la Parte A. ¿Cuál elegirías? Justifica.\n",
        "\n",
        "PARTE C - Interpretación de modelos\n",
        "\n",
        "De acuerdo a lo que el modelo permite, responde algunas o todas las siguientes preguntas:\n",
        "\n",
        "¿Qué variables fueron relevantes para el modelo para hacer una predicción? ¿Cuáles no? Si usaste una regresión lineal con regularización, presta atención a los parámetros (pendientes) obtenidas. Si usaste un modelo de ensamble en árboles, además de ver la importancia de cada atributo, también elige algunos árboles al azar y observa qué atributos considera importantes. ¿En qué se diferencian esos árboles? ¿Por qué? Finalmente, responde, ¿coincide con lo que esperabas a partir de tu experiencia con este dataset?\n",
        "\n",
        "¿Cómo es la distribución de errores (regresión) o qué clases se confunden entre sí (clasificación)? ¿Dónde falla? ¿A qué se debe?\n",
        "\n",
        "Debes ser crítico/a con la metodología utilizada. ¿Qué mejorarías?\n",
        "\n",
        "DESAFÍO OPCIONAL\n",
        "Aplica una técnica de Clustering sobre el dataset. Puedes combinar con técnicas de reducción de dimensionalidad para facilitar la visualización. ¿Qué clusters encuentras? ¿A qué pueden corresponder? Te dejamos preguntas que pueden servir como disparadoras: ¿qué barrios se parecen más entre sí?¿qué tipos de propiedades se parecen más entre sí?\n",
        "\n",
        "Ahora bien, a trabajar en este proyecto, se ofrece como recurso una muestra del conjunto de publicaciones de propiedades en venta dentro de la inmobiliaria Properati disponible en su página web. https://www.properati.com.ar/"
      ]
    },
    {
      "cell_type": "code",
      "metadata": {
        "id": "4e7JgRiamUJA"
      },
      "source": [
        "import numpy as np\n",
        "import pandas as pd\n",
        "import matplotlib.pyplot as plt\n",
        "import seaborn as sns\n",
        "sns.set()"
      ],
      "execution_count": 1,
      "outputs": []
    },
    {
      "cell_type": "code",
      "metadata": {
        "colab": {
          "base_uri": "https://localhost:8080/"
        },
        "id": "SBbiv-96rIgG",
        "outputId": "3934d973-e173-4cb9-824c-446e75653052"
      },
      "source": [
        "data1= pd.read_csv(\"DS_Proyecto_01_Datos_Properati.csv\")\n",
        "print('El dataset tiene', data1.shape[0], 'filas y', data1.shape[1], 'columnas.')"
      ],
      "execution_count": 2,
      "outputs": [
        {
          "output_type": "stream",
          "text": [
            "El dataset tiene 146660 filas y 19 columnas.\n"
          ],
          "name": "stdout"
        }
      ]
    },
    {
      "cell_type": "code",
      "metadata": {
        "id": "fhzNab2irwfs"
      },
      "source": [
        "\n",
        "data = data1.drop(['lon','lat','start_date','end_date','created_on', 'currency', 'l1', 'operation_type' ], axis=1)"
      ],
      "execution_count": 3,
      "outputs": []
    },
    {
      "cell_type": "markdown",
      "metadata": {
        "id": "_BsCyU-ssw3g"
      },
      "source": [
        "PROCEDO A IMPORTAR LOS FILTROS PROVEIDOS EN EL TP1 PARA FILTRAR EL DATASET, NO OBSTANTE, NO INCLUYO DROP NA, PARA HACER IMPUTACION DE DATOS, Y PREPROCESAR LOS DATOS ANTES DE CORRER MODELOS, y TAMBIEN ME DESHAGO DE LOS ERRORES DE CARGA DONDE LAS SUPERFICIES CUBIERTAS SON MAYORES A LAS TOTALES, TAL COMO SUGIERE EL TP1"
      ]
    },
    {
      "cell_type": "code",
      "metadata": {
        "colab": {
          "base_uri": "https://localhost:8080/"
        },
        "id": "DDhqZwNjr1sQ",
        "outputId": "d5e48b19-f6f0-49c1-a911-8f7086931d51"
      },
      "source": [
        "data_raiz = pd.read_csv('DS_Proyecto_01_Datos_Properati.csv') \n",
        "data = data_raiz[(data_raiz['l2'] == \"Capital Federal\") & (data_raiz.property_type.isin(['Departamento','Casa','PH']))]\n",
        "data = data[(data['surface_total'] >= 15) & (data['surface_total'] <= 1000)]\n",
        "data = data[(data['price'] <= 4000000)]\n",
        "data = data.filter(items=['property_type','rooms', 'bedrooms','bathrooms','surface_total', 'surface_covered', 'price'])\n",
        "mask_surface = data['surface_covered'] <= data['surface_total']\n",
        "\n",
        "data = data[mask_surface]\n",
        "print('Checkpoint: ', data.shape)"
      ],
      "execution_count": 4,
      "outputs": [
        {
          "output_type": "stream",
          "text": [
            "Checkpoint:  (81105, 7)\n"
          ],
          "name": "stdout"
        }
      ]
    },
    {
      "cell_type": "markdown",
      "metadata": {
        "id": "YqTRZFiHsGvt"
      },
      "source": [
        "Despues de visualizar las columnas del dataset, procedo a eliminar todas aquellas columnas que no me seran utiles para este trabajo en especifico, por que no influyen en el precio de la propiedad"
      ]
    },
    {
      "cell_type": "code",
      "metadata": {
        "colab": {
          "base_uri": "https://localhost:8080/"
        },
        "id": "Ti6-qkcCsVQ8",
        "outputId": "efc47010-5237-4a39-d869-69019af4bca0"
      },
      "source": [
        "data.shape"
      ],
      "execution_count": 5,
      "outputs": [
        {
          "output_type": "execute_result",
          "data": {
            "text/plain": [
              "(81105, 7)"
            ]
          },
          "metadata": {
            "tags": []
          },
          "execution_count": 5
        }
      ]
    },
    {
      "cell_type": "code",
      "metadata": {
        "colab": {
          "base_uri": "https://localhost:8080/",
          "height": 204
        },
        "id": "A30ppfdtuyjO",
        "outputId": "a3f1193b-a875-423a-a484-9d579f51a0de"
      },
      "source": [
        "data.head()"
      ],
      "execution_count": 6,
      "outputs": [
        {
          "output_type": "execute_result",
          "data": {
            "text/html": [
              "<div>\n",
              "<style scoped>\n",
              "    .dataframe tbody tr th:only-of-type {\n",
              "        vertical-align: middle;\n",
              "    }\n",
              "\n",
              "    .dataframe tbody tr th {\n",
              "        vertical-align: top;\n",
              "    }\n",
              "\n",
              "    .dataframe thead th {\n",
              "        text-align: right;\n",
              "    }\n",
              "</style>\n",
              "<table border=\"1\" class=\"dataframe\">\n",
              "  <thead>\n",
              "    <tr style=\"text-align: right;\">\n",
              "      <th></th>\n",
              "      <th>property_type</th>\n",
              "      <th>rooms</th>\n",
              "      <th>bedrooms</th>\n",
              "      <th>bathrooms</th>\n",
              "      <th>surface_total</th>\n",
              "      <th>surface_covered</th>\n",
              "      <th>price</th>\n",
              "    </tr>\n",
              "  </thead>\n",
              "  <tbody>\n",
              "    <tr>\n",
              "      <th>0</th>\n",
              "      <td>Departamento</td>\n",
              "      <td>7.0</td>\n",
              "      <td>7.0</td>\n",
              "      <td>2.0</td>\n",
              "      <td>140.0</td>\n",
              "      <td>140.0</td>\n",
              "      <td>153000.0</td>\n",
              "    </tr>\n",
              "    <tr>\n",
              "      <th>1</th>\n",
              "      <td>PH</td>\n",
              "      <td>2.0</td>\n",
              "      <td>1.0</td>\n",
              "      <td>2.0</td>\n",
              "      <td>70.0</td>\n",
              "      <td>58.0</td>\n",
              "      <td>159000.0</td>\n",
              "    </tr>\n",
              "    <tr>\n",
              "      <th>2</th>\n",
              "      <td>PH</td>\n",
              "      <td>2.0</td>\n",
              "      <td>1.0</td>\n",
              "      <td>1.0</td>\n",
              "      <td>45.0</td>\n",
              "      <td>45.0</td>\n",
              "      <td>125000.0</td>\n",
              "    </tr>\n",
              "    <tr>\n",
              "      <th>3</th>\n",
              "      <td>PH</td>\n",
              "      <td>2.0</td>\n",
              "      <td>1.0</td>\n",
              "      <td>1.0</td>\n",
              "      <td>85.0</td>\n",
              "      <td>50.0</td>\n",
              "      <td>295000.0</td>\n",
              "    </tr>\n",
              "    <tr>\n",
              "      <th>5</th>\n",
              "      <td>PH</td>\n",
              "      <td>2.0</td>\n",
              "      <td>1.0</td>\n",
              "      <td>1.0</td>\n",
              "      <td>56.0</td>\n",
              "      <td>56.0</td>\n",
              "      <td>150000.0</td>\n",
              "    </tr>\n",
              "  </tbody>\n",
              "</table>\n",
              "</div>"
            ],
            "text/plain": [
              "  property_type  rooms  bedrooms  ...  surface_total  surface_covered     price\n",
              "0  Departamento    7.0       7.0  ...          140.0            140.0  153000.0\n",
              "1            PH    2.0       1.0  ...           70.0             58.0  159000.0\n",
              "2            PH    2.0       1.0  ...           45.0             45.0  125000.0\n",
              "3            PH    2.0       1.0  ...           85.0             50.0  295000.0\n",
              "5            PH    2.0       1.0  ...           56.0             56.0  150000.0\n",
              "\n",
              "[5 rows x 7 columns]"
            ]
          },
          "metadata": {
            "tags": []
          },
          "execution_count": 6
        }
      ]
    },
    {
      "cell_type": "code",
      "metadata": {
        "colab": {
          "base_uri": "https://localhost:8080/"
        },
        "id": "Y7Hl0EnLtNbU",
        "outputId": "a447e90e-2e02-4dab-abe4-d5bec5daf217"
      },
      "source": [
        "print('Los tipos de propiedades en anuncios son: ', data['property_type'].unique())\n",
        "print(data['property_type'].value_counts())\n",
        "print(data.shape)"
      ],
      "execution_count": 7,
      "outputs": [
        {
          "output_type": "stream",
          "text": [
            "Los tipos de propiedades en anuncios son:  ['Departamento' 'PH' 'Casa']\n",
            "Departamento    69474\n",
            "PH               9611\n",
            "Casa             2020\n",
            "Name: property_type, dtype: int64\n",
            "(81105, 7)\n"
          ],
          "name": "stdout"
        }
      ]
    },
    {
      "cell_type": "markdown",
      "metadata": {
        "id": "W73VWKXftX2s"
      },
      "source": [
        "A simple vista se puede inferir que la mayoria son departamentos en la capital federal"
      ]
    },
    {
      "cell_type": "code",
      "metadata": {
        "colab": {
          "base_uri": "https://localhost:8080/",
          "height": 381
        },
        "id": "WfjgewgEson0",
        "outputId": "fe7698f6-07e1-4d71-b432-f8de776afc16"
      },
      "source": [
        "property_types = data[\"property_type\"].value_counts()\n",
        "property_types = property_types.groupby(np.where(property_types >= 2000, property_types.index, 'Otras propiedades')).sum()\n",
        "\n",
        "fig1, ax1 = plt.subplots(figsize=(14,6))\n",
        "\n",
        "ax1.pie(x = property_types,labels = property_types.index,\n",
        "        autopct = '%1.1f%%',textprops = {'fontsize': 15},\n",
        "        pctdistance = 0.8,labeldistance = 1.05)\n",
        "\n",
        "#ax1.axis('equal')\n",
        "plt.title(\"Proporción de cada tipo de propiedad\", size=22)\n",
        "\n",
        "plt.show()"
      ],
      "execution_count": 8,
      "outputs": [
        {
          "output_type": "display_data",
          "data": {
            "image/png": "[encoded data removed]",
            "text/plain": [
              "<Figure size 1008x432 with 1 Axes>"
            ]
          },
          "metadata": {
            "tags": []
          }
        }
      ]
    },
    {
      "cell_type": "code",
      "metadata": {
        "colab": {
          "base_uri": "https://localhost:8080/",
          "height": 297
        },
        "id": "Q9woFcKNw-e-",
        "outputId": "0bdd95bd-cff9-4883-f8c6-684bd22708a8"
      },
      "source": [
        "data.describe()"
      ],
      "execution_count": 9,
      "outputs": [
        {
          "output_type": "execute_result",
          "data": {
            "text/html": [
              "<div>\n",
              "<style scoped>\n",
              "    .dataframe tbody tr th:only-of-type {\n",
              "        vertical-align: middle;\n",
              "    }\n",
              "\n",
              "    .dataframe tbody tr th {\n",
              "        vertical-align: top;\n",
              "    }\n",
              "\n",
              "    .dataframe thead th {\n",
              "        text-align: right;\n",
              "    }\n",
              "</style>\n",
              "<table border=\"1\" class=\"dataframe\">\n",
              "  <thead>\n",
              "    <tr style=\"text-align: right;\">\n",
              "      <th></th>\n",
              "      <th>rooms</th>\n",
              "      <th>bedrooms</th>\n",
              "      <th>bathrooms</th>\n",
              "      <th>surface_total</th>\n",
              "      <th>surface_covered</th>\n",
              "      <th>price</th>\n",
              "    </tr>\n",
              "  </thead>\n",
              "  <tbody>\n",
              "    <tr>\n",
              "      <th>count</th>\n",
              "      <td>81105.000000</td>\n",
              "      <td>81105.000000</td>\n",
              "      <td>80276.000000</td>\n",
              "      <td>81105.000000</td>\n",
              "      <td>81105.000000</td>\n",
              "      <td>8.110500e+04</td>\n",
              "    </tr>\n",
              "    <tr>\n",
              "      <th>mean</th>\n",
              "      <td>3.004044</td>\n",
              "      <td>1.998188</td>\n",
              "      <td>1.553640</td>\n",
              "      <td>95.292263</td>\n",
              "      <td>81.992257</td>\n",
              "      <td>2.635069e+05</td>\n",
              "    </tr>\n",
              "    <tr>\n",
              "      <th>std</th>\n",
              "      <td>1.297403</td>\n",
              "      <td>1.044806</td>\n",
              "      <td>0.850479</td>\n",
              "      <td>77.153348</td>\n",
              "      <td>61.487416</td>\n",
              "      <td>2.986440e+05</td>\n",
              "    </tr>\n",
              "    <tr>\n",
              "      <th>min</th>\n",
              "      <td>1.000000</td>\n",
              "      <td>0.000000</td>\n",
              "      <td>1.000000</td>\n",
              "      <td>15.000000</td>\n",
              "      <td>1.000000</td>\n",
              "      <td>6.000000e+03</td>\n",
              "    </tr>\n",
              "    <tr>\n",
              "      <th>25%</th>\n",
              "      <td>2.000000</td>\n",
              "      <td>1.000000</td>\n",
              "      <td>1.000000</td>\n",
              "      <td>49.000000</td>\n",
              "      <td>44.000000</td>\n",
              "      <td>1.250000e+05</td>\n",
              "    </tr>\n",
              "    <tr>\n",
              "      <th>50%</th>\n",
              "      <td>3.000000</td>\n",
              "      <td>2.000000</td>\n",
              "      <td>1.000000</td>\n",
              "      <td>71.000000</td>\n",
              "      <td>63.000000</td>\n",
              "      <td>1.800000e+05</td>\n",
              "    </tr>\n",
              "    <tr>\n",
              "      <th>75%</th>\n",
              "      <td>4.000000</td>\n",
              "      <td>3.000000</td>\n",
              "      <td>2.000000</td>\n",
              "      <td>110.000000</td>\n",
              "      <td>95.000000</td>\n",
              "      <td>2.800000e+05</td>\n",
              "    </tr>\n",
              "    <tr>\n",
              "      <th>max</th>\n",
              "      <td>26.000000</td>\n",
              "      <td>15.000000</td>\n",
              "      <td>14.000000</td>\n",
              "      <td>1000.000000</td>\n",
              "      <td>891.000000</td>\n",
              "      <td>4.000000e+06</td>\n",
              "    </tr>\n",
              "  </tbody>\n",
              "</table>\n",
              "</div>"
            ],
            "text/plain": [
              "              rooms      bedrooms  ...  surface_covered         price\n",
              "count  81105.000000  81105.000000  ...     81105.000000  8.110500e+04\n",
              "mean       3.004044      1.998188  ...        81.992257  2.635069e+05\n",
              "std        1.297403      1.044806  ...        61.487416  2.986440e+05\n",
              "min        1.000000      0.000000  ...         1.000000  6.000000e+03\n",
              "25%        2.000000      1.000000  ...        44.000000  1.250000e+05\n",
              "50%        3.000000      2.000000  ...        63.000000  1.800000e+05\n",
              "75%        4.000000      3.000000  ...        95.000000  2.800000e+05\n",
              "max       26.000000     15.000000  ...       891.000000  4.000000e+06\n",
              "\n",
              "[8 rows x 6 columns]"
            ]
          },
          "metadata": {
            "tags": []
          },
          "execution_count": 9
        }
      ]
    },
    {
      "cell_type": "code",
      "metadata": {
        "colab": {
          "base_uri": "https://localhost:8080/"
        },
        "id": "wacBSd8PxAS1",
        "outputId": "c2fce6a2-4843-4190-ca1b-4fd77bc78553"
      },
      "source": [
        "data.shape"
      ],
      "execution_count": 10,
      "outputs": [
        {
          "output_type": "execute_result",
          "data": {
            "text/plain": [
              "(81105, 7)"
            ]
          },
          "metadata": {
            "tags": []
          },
          "execution_count": 10
        }
      ]
    },
    {
      "cell_type": "markdown",
      "metadata": {
        "id": "kOSRAz7JhATf"
      },
      "source": [
        "# Tratamiento de Outliers\n",
        "Primeramente procedo a filtrar valores atípicos, un método muy usado es filtrar los valores de una variable utilizando el IQR (rango intercuartilico), que a diferencia del proyecto anterior que usé como límite el percentil 99, y otros filtros escogidos objetivamente en base a observaciones, aplicaré nuevos metodos sabiendo que es lo mejor en este caso."
      ]
    },
    {
      "cell_type": "code",
      "metadata": {
        "colab": {
          "base_uri": "https://localhost:8080/",
          "height": 0
        },
        "id": "JBEtdWNthQgQ",
        "outputId": "11b6a504-e8dc-4f94-8d9a-423b87d279fe"
      },
      "source": [
        "data.describe()"
      ],
      "execution_count": 11,
      "outputs": [
        {
          "output_type": "execute_result",
          "data": {
            "text/html": [
              "<div>\n",
              "<style scoped>\n",
              "    .dataframe tbody tr th:only-of-type {\n",
              "        vertical-align: middle;\n",
              "    }\n",
              "\n",
              "    .dataframe tbody tr th {\n",
              "        vertical-align: top;\n",
              "    }\n",
              "\n",
              "    .dataframe thead th {\n",
              "        text-align: right;\n",
              "    }\n",
              "</style>\n",
              "<table border=\"1\" class=\"dataframe\">\n",
              "  <thead>\n",
              "    <tr style=\"text-align: right;\">\n",
              "      <th></th>\n",
              "      <th>rooms</th>\n",
              "      <th>bedrooms</th>\n",
              "      <th>bathrooms</th>\n",
              "      <th>surface_total</th>\n",
              "      <th>surface_covered</th>\n",
              "      <th>price</th>\n",
              "    </tr>\n",
              "  </thead>\n",
              "  <tbody>\n",
              "    <tr>\n",
              "      <th>count</th>\n",
              "      <td>81105.000000</td>\n",
              "      <td>81105.000000</td>\n",
              "      <td>80276.000000</td>\n",
              "      <td>81105.000000</td>\n",
              "      <td>81105.000000</td>\n",
              "      <td>8.110500e+04</td>\n",
              "    </tr>\n",
              "    <tr>\n",
              "      <th>mean</th>\n",
              "      <td>3.004044</td>\n",
              "      <td>1.998188</td>\n",
              "      <td>1.553640</td>\n",
              "      <td>95.292263</td>\n",
              "      <td>81.992257</td>\n",
              "      <td>2.635069e+05</td>\n",
              "    </tr>\n",
              "    <tr>\n",
              "      <th>std</th>\n",
              "      <td>1.297403</td>\n",
              "      <td>1.044806</td>\n",
              "      <td>0.850479</td>\n",
              "      <td>77.153348</td>\n",
              "      <td>61.487416</td>\n",
              "      <td>2.986440e+05</td>\n",
              "    </tr>\n",
              "    <tr>\n",
              "      <th>min</th>\n",
              "      <td>1.000000</td>\n",
              "      <td>0.000000</td>\n",
              "      <td>1.000000</td>\n",
              "      <td>15.000000</td>\n",
              "      <td>1.000000</td>\n",
              "      <td>6.000000e+03</td>\n",
              "    </tr>\n",
              "    <tr>\n",
              "      <th>25%</th>\n",
              "      <td>2.000000</td>\n",
              "      <td>1.000000</td>\n",
              "      <td>1.000000</td>\n",
              "      <td>49.000000</td>\n",
              "      <td>44.000000</td>\n",
              "      <td>1.250000e+05</td>\n",
              "    </tr>\n",
              "    <tr>\n",
              "      <th>50%</th>\n",
              "      <td>3.000000</td>\n",
              "      <td>2.000000</td>\n",
              "      <td>1.000000</td>\n",
              "      <td>71.000000</td>\n",
              "      <td>63.000000</td>\n",
              "      <td>1.800000e+05</td>\n",
              "    </tr>\n",
              "    <tr>\n",
              "      <th>75%</th>\n",
              "      <td>4.000000</td>\n",
              "      <td>3.000000</td>\n",
              "      <td>2.000000</td>\n",
              "      <td>110.000000</td>\n",
              "      <td>95.000000</td>\n",
              "      <td>2.800000e+05</td>\n",
              "    </tr>\n",
              "    <tr>\n",
              "      <th>max</th>\n",
              "      <td>26.000000</td>\n",
              "      <td>15.000000</td>\n",
              "      <td>14.000000</td>\n",
              "      <td>1000.000000</td>\n",
              "      <td>891.000000</td>\n",
              "      <td>4.000000e+06</td>\n",
              "    </tr>\n",
              "  </tbody>\n",
              "</table>\n",
              "</div>"
            ],
            "text/plain": [
              "              rooms      bedrooms  ...  surface_covered         price\n",
              "count  81105.000000  81105.000000  ...     81105.000000  8.110500e+04\n",
              "mean       3.004044      1.998188  ...        81.992257  2.635069e+05\n",
              "std        1.297403      1.044806  ...        61.487416  2.986440e+05\n",
              "min        1.000000      0.000000  ...         1.000000  6.000000e+03\n",
              "25%        2.000000      1.000000  ...        44.000000  1.250000e+05\n",
              "50%        3.000000      2.000000  ...        63.000000  1.800000e+05\n",
              "75%        4.000000      3.000000  ...        95.000000  2.800000e+05\n",
              "max       26.000000     15.000000  ...       891.000000  4.000000e+06\n",
              "\n",
              "[8 rows x 6 columns]"
            ]
          },
          "metadata": {
            "tags": []
          },
          "execution_count": 11
        }
      ]
    },
    {
      "cell_type": "markdown",
      "metadata": {
        "id": "VtvauktvSa1L"
      },
      "source": [
        "empezare a observar la distribucion de surface total puesto que tiene la desviacion estandar mas elevada"
      ]
    },
    {
      "cell_type": "code",
      "metadata": {
        "colab": {
          "base_uri": "https://localhost:8080/",
          "height": 0
        },
        "id": "AFaIem5MhUnR",
        "outputId": "02933f10-7b1f-4a4a-fcb0-3df4e4e8c446"
      },
      "source": [
        "plt.figure(figsize = (20,5))\n",
        "sns.boxplot(x = 'surface_total', y = 'property_type', data = data)\n",
        "plt.xlabel('Superficie total [$m^{2}$]', size = 15)\n",
        "plt.title('Distribución de la Superficie total',size = 25)\n",
        "plt.show()"
      ],
      "execution_count": 12,
      "outputs": [
        {
          "output_type": "display_data",
          "data": {
            "image/png": "[encoded data removed]",
            "text/plain": [
              "<Figure size 1440x360 with 1 Axes>"
            ]
          },
          "metadata": {
            "tags": [],
            "needs_background": "light"
          }
        }
      ]
    },
    {
      "cell_type": "code",
      "metadata": {
        "colab": {
          "base_uri": "https://localhost:8080/"
        },
        "id": "6ul90cVSYWSw",
        "outputId": "d6ed2e6b-6fce-4a7d-e96b-dc0b41f77aa3"
      },
      "source": [
        "q1_sup = data['surface_total'].quantile(0.25)\n",
        "q3_sup = data['surface_total'].quantile(0.75)\n",
        "iq_sup = q3_sup - q1_sup\n",
        "op = q3_sup+1.5*iq_sup\n",
        "min_q=q1_sup-1.5*iq_sup\n",
        "#MIN = Q1 - 1.5 * IQR\n",
        "\n",
        "\n",
        "print(\"minimo : {}\".format(min_q))\n",
        "print(\"Primer cuartil: {}\".format(q1_sup))\n",
        "print(\"Tercer cuartil: {}\".format(q3_sup))\n",
        "print(\"Rango intercuartílico: {}\".format(iq_sup))\n",
        "print(\"Rango óptimo MAX: {}\".format(op))"
      ],
      "execution_count": 13,
      "outputs": [
        {
          "output_type": "stream",
          "text": [
            "minimo : -42.5\n",
            "Primer cuartil: 49.0\n",
            "Tercer cuartil: 110.0\n",
            "Rango intercuartílico: 61.0\n",
            "Rango óptimo MAX: 201.5\n"
          ],
          "name": "stdout"
        }
      ]
    },
    {
      "cell_type": "code",
      "metadata": {
        "colab": {
          "base_uri": "https://localhost:8080/",
          "height": 0
        },
        "id": "5B07TYWkYf82",
        "outputId": "fa19f813-c0ec-4a43-9bdd-6390bc624897"
      },
      "source": [
        "op_sup = data['surface_total'] < 201.5 \n",
        "\n",
        "plt.figure(figsize = (30,10))\n",
        "\n",
        "plt.subplot(2,1,1)\n",
        "sns.boxplot(data['surface_total'][op_sup])\n",
        "plt.xlabel(\"\")\n",
        "plt.title('Distribución de la superficie covered filtrando IQR', size = 30)\n",
        "\n",
        "plt.subplot(2,1,2)\n",
        "sns.distplot(data['surface_total'][op_sup])\n",
        "plt.xlabel('Superficie total [$m^{2}$]', size = 20)\n",
        "\n",
        "plt.show()"
      ],
      "execution_count": 14,
      "outputs": [
        {
          "output_type": "stream",
          "text": [
            "/usr/local/lib/python3.7/dist-packages/seaborn/_decorators.py:43: FutureWarning: Pass the following variable as a keyword arg: x. From version 0.12, the only valid positional argument will be `data`, and passing other arguments without an explicit keyword will result in an error or misinterpretation.\n",
            "  FutureWarning\n",
            "/usr/local/lib/python3.7/dist-packages/seaborn/distributions.py:2557: FutureWarning: `distplot` is a deprecated function and will be removed in a future version. Please adapt your code to use either `displot` (a figure-level function with similar flexibility) or `histplot` (an axes-level function for histograms).\n",
            "  warnings.warn(msg, FutureWarning)\n"
          ],
          "name": "stderr"
        },
        {
          "output_type": "display_data",
          "data": {
            "image/png": "[encoded data removed]",
            "text/plain": [
              "<Figure size 2160x720 with 2 Axes>"
            ]
          },
          "metadata": {
            "tags": [],
            "needs_background": "light"
          }
        }
      ]
    },
    {
      "cell_type": "code",
      "metadata": {
        "colab": {
          "base_uri": "https://localhost:8080/"
        },
        "id": "dWs7I0BKZ2c2",
        "outputId": "7b5e2ccb-f941-48e9-869e-71a48ed38f23"
      },
      "source": [
        "print('Las propiedades con más de 201.5 metros cuadrados de Superficie total respresentan el', \n",
        "      round((data[data.surface_total > 201.5].shape[0]/data.surface_total.shape[0])*100,2),'% de nuestro dataset al momento.')"
      ],
      "execution_count": 15,
      "outputs": [
        {
          "output_type": "stream",
          "text": [
            "Las propiedades con más de 201.5 metros cuadrados de Superficie total respresentan el 7.59 % de nuestro dataset al momento.\n"
          ],
          "name": "stdout"
        }
      ]
    },
    {
      "cell_type": "code",
      "metadata": {
        "id": "IUxEcJkRcxKn"
      },
      "source": [
        "data_clean=data\n",
        "data_clean2=data.copy()"
      ],
      "execution_count": 16,
      "outputs": []
    },
    {
      "cell_type": "code",
      "metadata": {
        "id": "qUUQrsP5coUm"
      },
      "source": [
        "#data_clean.drop(data_clean[data_clean[\"surface_total\"] < 29].index, inplace= True)\n",
        "data_clean.drop(data_clean[data_clean[\"surface_total\"] > 201.5].index, inplace= True)\n",
        "#data_clean2.drop(data_clean2[data_clean2[\"surface_total\"] > 201.5].index, inplace= True)"
      ],
      "execution_count": 17,
      "outputs": []
    },
    {
      "cell_type": "code",
      "metadata": {
        "colab": {
          "base_uri": "https://localhost:8080/",
          "height": 0
        },
        "id": "_uXhzxuKcvUz",
        "outputId": "e24f3b27-ceee-42d4-bec3-1ca5a1222756"
      },
      "source": [
        "data_clean.describe()\n",
        "#data_clean2.describe"
      ],
      "execution_count": 18,
      "outputs": [
        {
          "output_type": "execute_result",
          "data": {
            "text/html": [
              "<div>\n",
              "<style scoped>\n",
              "    .dataframe tbody tr th:only-of-type {\n",
              "        vertical-align: middle;\n",
              "    }\n",
              "\n",
              "    .dataframe tbody tr th {\n",
              "        vertical-align: top;\n",
              "    }\n",
              "\n",
              "    .dataframe thead th {\n",
              "        text-align: right;\n",
              "    }\n",
              "</style>\n",
              "<table border=\"1\" class=\"dataframe\">\n",
              "  <thead>\n",
              "    <tr style=\"text-align: right;\">\n",
              "      <th></th>\n",
              "      <th>rooms</th>\n",
              "      <th>bedrooms</th>\n",
              "      <th>bathrooms</th>\n",
              "      <th>surface_total</th>\n",
              "      <th>surface_covered</th>\n",
              "      <th>price</th>\n",
              "    </tr>\n",
              "  </thead>\n",
              "  <tbody>\n",
              "    <tr>\n",
              "      <th>count</th>\n",
              "      <td>74949.000000</td>\n",
              "      <td>74949.000000</td>\n",
              "      <td>74190.000000</td>\n",
              "      <td>74949.000000</td>\n",
              "      <td>74949.000000</td>\n",
              "      <td>7.494900e+04</td>\n",
              "    </tr>\n",
              "    <tr>\n",
              "      <th>mean</th>\n",
              "      <td>2.820011</td>\n",
              "      <td>1.861919</td>\n",
              "      <td>1.440275</td>\n",
              "      <td>78.019934</td>\n",
              "      <td>69.078787</td>\n",
              "      <td>2.137242e+05</td>\n",
              "    </tr>\n",
              "    <tr>\n",
              "      <th>std</th>\n",
              "      <td>1.076130</td>\n",
              "      <td>0.906088</td>\n",
              "      <td>0.702942</td>\n",
              "      <td>39.553759</td>\n",
              "      <td>34.421533</td>\n",
              "      <td>1.539607e+05</td>\n",
              "    </tr>\n",
              "    <tr>\n",
              "      <th>min</th>\n",
              "      <td>1.000000</td>\n",
              "      <td>0.000000</td>\n",
              "      <td>1.000000</td>\n",
              "      <td>15.000000</td>\n",
              "      <td>1.000000</td>\n",
              "      <td>6.000000e+03</td>\n",
              "    </tr>\n",
              "    <tr>\n",
              "      <th>25%</th>\n",
              "      <td>2.000000</td>\n",
              "      <td>1.000000</td>\n",
              "      <td>1.000000</td>\n",
              "      <td>48.000000</td>\n",
              "      <td>43.000000</td>\n",
              "      <td>1.200000e+05</td>\n",
              "    </tr>\n",
              "    <tr>\n",
              "      <th>50%</th>\n",
              "      <td>3.000000</td>\n",
              "      <td>2.000000</td>\n",
              "      <td>1.000000</td>\n",
              "      <td>67.000000</td>\n",
              "      <td>60.000000</td>\n",
              "      <td>1.700000e+05</td>\n",
              "    </tr>\n",
              "    <tr>\n",
              "      <th>75%</th>\n",
              "      <td>4.000000</td>\n",
              "      <td>2.000000</td>\n",
              "      <td>2.000000</td>\n",
              "      <td>98.000000</td>\n",
              "      <td>85.000000</td>\n",
              "      <td>2.524000e+05</td>\n",
              "    </tr>\n",
              "    <tr>\n",
              "      <th>max</th>\n",
              "      <td>21.000000</td>\n",
              "      <td>15.000000</td>\n",
              "      <td>14.000000</td>\n",
              "      <td>201.000000</td>\n",
              "      <td>201.000000</td>\n",
              "      <td>3.249900e+06</td>\n",
              "    </tr>\n",
              "  </tbody>\n",
              "</table>\n",
              "</div>"
            ],
            "text/plain": [
              "              rooms      bedrooms  ...  surface_covered         price\n",
              "count  74949.000000  74949.000000  ...     74949.000000  7.494900e+04\n",
              "mean       2.820011      1.861919  ...        69.078787  2.137242e+05\n",
              "std        1.076130      0.906088  ...        34.421533  1.539607e+05\n",
              "min        1.000000      0.000000  ...         1.000000  6.000000e+03\n",
              "25%        2.000000      1.000000  ...        43.000000  1.200000e+05\n",
              "50%        3.000000      2.000000  ...        60.000000  1.700000e+05\n",
              "75%        4.000000      2.000000  ...        85.000000  2.524000e+05\n",
              "max       21.000000     15.000000  ...       201.000000  3.249900e+06\n",
              "\n",
              "[8 rows x 6 columns]"
            ]
          },
          "metadata": {
            "tags": []
          },
          "execution_count": 18
        }
      ]
    },
    {
      "cell_type": "code",
      "metadata": {
        "colab": {
          "base_uri": "https://localhost:8080/",
          "height": 0
        },
        "id": "kfP8kpwogWmw",
        "outputId": "78a80acc-8c92-49ff-c2e1-b526084e997f"
      },
      "source": [
        "#comienzo trabajando con las categorias numericas continuas\n",
        "plt.figure(figsize = (14,12)) \n",
        "\n",
        "plt.subplot(3,1,1)\n",
        "sns.boxplot(data=data_clean, x='rooms', y='property_type')\n",
        "plt.title('Ambientes por tipo de propiedad', size=15)\n",
        "plt.ylabel('Propiedad')\n",
        "plt.xlabel(' ')\n",
        "\n",
        "plt.subplot(3,1,2)\n",
        "sns.boxplot(data=data_clean, x='bathrooms', y='property_type')\n",
        "plt.title('Baños por tipo de propiedad', size=15)\n",
        "plt.ylabel('Propiedad')\n",
        "plt.xlabel(' ')\n",
        "\n",
        "plt.subplot(3,1,3)\n",
        "sns.boxplot(data=data_clean, x='bedrooms', y='property_type')\n",
        "plt.title('Habitaciones por tipo de propiedad', size=15)\n",
        "plt.ylabel('Propiedad')\n",
        "plt.xlabel(' ')\n",
        "\n",
        "plt.show()"
      ],
      "execution_count": 19,
      "outputs": [
        {
          "output_type": "display_data",
          "data": {
            "image/png": "[encoded data removed]",
            "text/plain": [
              "<Figure size 1008x864 with 3 Axes>"
            ]
          },
          "metadata": {
            "tags": [],
            "needs_background": "light"
          }
        }
      ]
    },
    {
      "cell_type": "code",
      "metadata": {
        "colab": {
          "base_uri": "https://localhost:8080/",
          "height": 0
        },
        "id": "Sj_KnNi2BGEL",
        "outputId": "8cc2f4d3-1c5c-4b53-a30d-dd2763b99898"
      },
      "source": [
        "q25,q75 = np.percentile(data_clean.rooms, 25), np.percentile(data_clean.rooms, 75)\n",
        "iqr = q75 - q25\n",
        "print('Q25: ', q25,'\\nQ75: ',q75, '\\nIQR: ',iqr)\n",
        "print('Rango óptimo MAX: ', q75 + 1.5* iqr)\n",
        "\n",
        "plt.figure(figsize = (17,2)) #box\n",
        "sns.boxplot(data_clean['rooms'])\n",
        "plt.xlabel('rooms', size = 10)\n",
        "plt.title('Distribución',size = 15)\n",
        "plt.show()"
      ],
      "execution_count": 20,
      "outputs": [
        {
          "output_type": "stream",
          "text": [
            "Q25:  2.0 \n",
            "Q75:  4.0 \n",
            "IQR:  2.0\n",
            "Rango óptimo MAX:  7.0\n"
          ],
          "name": "stdout"
        },
        {
          "output_type": "stream",
          "text": [
            "/usr/local/lib/python3.7/dist-packages/seaborn/_decorators.py:43: FutureWarning: Pass the following variable as a keyword arg: x. From version 0.12, the only valid positional argument will be `data`, and passing other arguments without an explicit keyword will result in an error or misinterpretation.\n",
            "  FutureWarning\n"
          ],
          "name": "stderr"
        },
        {
          "output_type": "display_data",
          "data": {
            "image/png": "[encoded data removed]",
            "text/plain": [
              "<Figure size 1224x144 with 1 Axes>"
            ]
          },
          "metadata": {
            "tags": [],
            "needs_background": "light"
          }
        }
      ]
    },
    {
      "cell_type": "markdown",
      "metadata": {
        "id": "rz-JEJFZByQR"
      },
      "source": [
        "PROCEDO A FILTRAR POR ROOMS, POR SER LA VARIABLE CON MAYOR STD, UTILIZO EL IQR PARA FILTRAR AQUELLAS PROPIEDADES CON MAS DE 7 ROOMS"
      ]
    },
    {
      "cell_type": "code",
      "metadata": {
        "colab": {
          "base_uri": "https://localhost:8080/",
          "height": 0
        },
        "id": "7PpZWeEiBTbA",
        "outputId": "6a647734-8e5d-4aef-9c96-34e10e32f34c"
      },
      "source": [
        "data_clean.rooms.hist()"
      ],
      "execution_count": 21,
      "outputs": [
        {
          "output_type": "execute_result",
          "data": {
            "text/plain": [
              "<matplotlib.axes._subplots.AxesSubplot at 0x7feea01bf310>"
            ]
          },
          "metadata": {
            "tags": []
          },
          "execution_count": 21
        },
        {
          "output_type": "display_data",
          "data": {
            "image/png": "[encoded data removed]",
            "text/plain": [
              "<Figure size 432x288 with 1 Axes>"
            ]
          },
          "metadata": {
            "tags": [],
            "needs_background": "light"
          }
        }
      ]
    },
    {
      "cell_type": "code",
      "metadata": {
        "colab": {
          "base_uri": "https://localhost:8080/"
        },
        "id": "OXiFh7FPBjxs",
        "outputId": "7c9ee677-4374-49ca-eb9a-95ced22cf75e"
      },
      "source": [
        "data_clean.rooms.value_counts().sort_index()"
      ],
      "execution_count": 22,
      "outputs": [
        {
          "output_type": "execute_result",
          "data": {
            "text/plain": [
              "1.0      6478\n",
              "2.0     24480\n",
              "3.0     25250\n",
              "4.0     14892\n",
              "5.0      2983\n",
              "6.0       584\n",
              "7.0       144\n",
              "8.0       107\n",
              "9.0        10\n",
              "10.0       14\n",
              "11.0        5\n",
              "12.0        1\n",
              "21.0        1\n",
              "Name: rooms, dtype: int64"
            ]
          },
          "metadata": {
            "tags": []
          },
          "execution_count": 22
        }
      ]
    },
    {
      "cell_type": "code",
      "metadata": {
        "id": "JTMWBCEQBiOR"
      },
      "source": [
        "data_clean.drop(data_clean[data_clean[\"rooms\"] > 7].index, inplace= True)"
      ],
      "execution_count": 23,
      "outputs": []
    },
    {
      "cell_type": "code",
      "metadata": {
        "colab": {
          "base_uri": "https://localhost:8080/",
          "height": 0
        },
        "id": "C2nvePKBB9X_",
        "outputId": "5053bb62-ee25-4aef-84ef-eb6f60681ffd"
      },
      "source": [
        "data_clean.describe()"
      ],
      "execution_count": 24,
      "outputs": [
        {
          "output_type": "execute_result",
          "data": {
            "text/html": [
              "<div>\n",
              "<style scoped>\n",
              "    .dataframe tbody tr th:only-of-type {\n",
              "        vertical-align: middle;\n",
              "    }\n",
              "\n",
              "    .dataframe tbody tr th {\n",
              "        vertical-align: top;\n",
              "    }\n",
              "\n",
              "    .dataframe thead th {\n",
              "        text-align: right;\n",
              "    }\n",
              "</style>\n",
              "<table border=\"1\" class=\"dataframe\">\n",
              "  <thead>\n",
              "    <tr style=\"text-align: right;\">\n",
              "      <th></th>\n",
              "      <th>rooms</th>\n",
              "      <th>bedrooms</th>\n",
              "      <th>bathrooms</th>\n",
              "      <th>surface_total</th>\n",
              "      <th>surface_covered</th>\n",
              "      <th>price</th>\n",
              "    </tr>\n",
              "  </thead>\n",
              "  <tbody>\n",
              "    <tr>\n",
              "      <th>count</th>\n",
              "      <td>74811.000000</td>\n",
              "      <td>74811.000000</td>\n",
              "      <td>74052.000000</td>\n",
              "      <td>74811.000000</td>\n",
              "      <td>74811.000000</td>\n",
              "      <td>7.481100e+04</td>\n",
              "    </tr>\n",
              "    <tr>\n",
              "      <th>mean</th>\n",
              "      <td>2.809520</td>\n",
              "      <td>1.853257</td>\n",
              "      <td>1.439421</td>\n",
              "      <td>77.861865</td>\n",
              "      <td>68.915480</td>\n",
              "      <td>2.136195e+05</td>\n",
              "    </tr>\n",
              "    <tr>\n",
              "      <th>std</th>\n",
              "      <td>1.047346</td>\n",
              "      <td>0.881185</td>\n",
              "      <td>0.701929</td>\n",
              "      <td>39.401405</td>\n",
              "      <td>34.217954</td>\n",
              "      <td>1.540212e+05</td>\n",
              "    </tr>\n",
              "    <tr>\n",
              "      <th>min</th>\n",
              "      <td>1.000000</td>\n",
              "      <td>0.000000</td>\n",
              "      <td>1.000000</td>\n",
              "      <td>15.000000</td>\n",
              "      <td>1.000000</td>\n",
              "      <td>6.000000e+03</td>\n",
              "    </tr>\n",
              "    <tr>\n",
              "      <th>25%</th>\n",
              "      <td>2.000000</td>\n",
              "      <td>1.000000</td>\n",
              "      <td>1.000000</td>\n",
              "      <td>48.000000</td>\n",
              "      <td>43.000000</td>\n",
              "      <td>1.200000e+05</td>\n",
              "    </tr>\n",
              "    <tr>\n",
              "      <th>50%</th>\n",
              "      <td>3.000000</td>\n",
              "      <td>2.000000</td>\n",
              "      <td>1.000000</td>\n",
              "      <td>67.000000</td>\n",
              "      <td>60.000000</td>\n",
              "      <td>1.699000e+05</td>\n",
              "    </tr>\n",
              "    <tr>\n",
              "      <th>75%</th>\n",
              "      <td>3.000000</td>\n",
              "      <td>2.000000</td>\n",
              "      <td>2.000000</td>\n",
              "      <td>98.000000</td>\n",
              "      <td>85.000000</td>\n",
              "      <td>2.519500e+05</td>\n",
              "    </tr>\n",
              "    <tr>\n",
              "      <th>max</th>\n",
              "      <td>7.000000</td>\n",
              "      <td>15.000000</td>\n",
              "      <td>14.000000</td>\n",
              "      <td>201.000000</td>\n",
              "      <td>201.000000</td>\n",
              "      <td>3.249900e+06</td>\n",
              "    </tr>\n",
              "  </tbody>\n",
              "</table>\n",
              "</div>"
            ],
            "text/plain": [
              "              rooms      bedrooms  ...  surface_covered         price\n",
              "count  74811.000000  74811.000000  ...     74811.000000  7.481100e+04\n",
              "mean       2.809520      1.853257  ...        68.915480  2.136195e+05\n",
              "std        1.047346      0.881185  ...        34.217954  1.540212e+05\n",
              "min        1.000000      0.000000  ...         1.000000  6.000000e+03\n",
              "25%        2.000000      1.000000  ...        43.000000  1.200000e+05\n",
              "50%        3.000000      2.000000  ...        60.000000  1.699000e+05\n",
              "75%        3.000000      2.000000  ...        85.000000  2.519500e+05\n",
              "max        7.000000     15.000000  ...       201.000000  3.249900e+06\n",
              "\n",
              "[8 rows x 6 columns]"
            ]
          },
          "metadata": {
            "tags": []
          },
          "execution_count": 24
        }
      ]
    },
    {
      "cell_type": "code",
      "metadata": {
        "colab": {
          "base_uri": "https://localhost:8080/",
          "height": 0
        },
        "id": "Tq0vfpIjC2lZ",
        "outputId": "cc26e0f6-64a7-4747-c838-bdfb5cb4cd34"
      },
      "source": [
        "q25,q75 = np.percentile(data_clean.bedrooms, 25), np.percentile(data_clean.bedrooms, 75)\n",
        "iqr = q75 - q25\n",
        "print('Q25: ', q25,'\\nQ75: ',q75, '\\nIQR: ',iqr)\n",
        "print('Rango óptimo MAX: ', q75 + 1.5* iqr)\n",
        "\n",
        "plt.figure(figsize = (17,2)) #box\n",
        "sns.boxplot(data_clean['bedrooms'])\n",
        "plt.xlabel('Bedrooms', size = 10)\n",
        "plt.title('Distribución',size = 15)\n",
        "plt.show()"
      ],
      "execution_count": 25,
      "outputs": [
        {
          "output_type": "stream",
          "text": [
            "Q25:  1.0 \n",
            "Q75:  2.0 \n",
            "IQR:  1.0\n",
            "Rango óptimo MAX:  3.5\n"
          ],
          "name": "stdout"
        },
        {
          "output_type": "stream",
          "text": [
            "/usr/local/lib/python3.7/dist-packages/seaborn/_decorators.py:43: FutureWarning: Pass the following variable as a keyword arg: x. From version 0.12, the only valid positional argument will be `data`, and passing other arguments without an explicit keyword will result in an error or misinterpretation.\n",
            "  FutureWarning\n"
          ],
          "name": "stderr"
        },
        {
          "output_type": "display_data",
          "data": {
            "image/png": "[encoded data removed]",
            "text/plain": [
              "<Figure size 1224x144 with 1 Axes>"
            ]
          },
          "metadata": {
            "tags": [],
            "needs_background": "light"
          }
        }
      ]
    },
    {
      "cell_type": "code",
      "metadata": {
        "colab": {
          "base_uri": "https://localhost:8080/",
          "height": 0
        },
        "id": "hbCcg8pBDKki",
        "outputId": "0458cc94-3d01-42f9-f9df-1583915c2ceb"
      },
      "source": [
        "data_clean.bedrooms.hist()"
      ],
      "execution_count": 26,
      "outputs": [
        {
          "output_type": "execute_result",
          "data": {
            "text/plain": [
              "<matplotlib.axes._subplots.AxesSubplot at 0x7feea00b4f50>"
            ]
          },
          "metadata": {
            "tags": []
          },
          "execution_count": 26
        },
        {
          "output_type": "display_data",
          "data": {
            "image/png": "[encoded data removed]",
            "text/plain": [
              "<Figure size 432x288 with 1 Axes>"
            ]
          },
          "metadata": {
            "tags": [],
            "needs_background": "light"
          }
        }
      ]
    },
    {
      "cell_type": "code",
      "metadata": {
        "colab": {
          "base_uri": "https://localhost:8080/"
        },
        "id": "OaoxSDVCDTwj",
        "outputId": "5942ca54-5648-405b-d395-e39d6fc30378"
      },
      "source": [
        "data_clean.bedrooms.value_counts().sort_index()"
      ],
      "execution_count": 27,
      "outputs": [
        {
          "output_type": "execute_result",
          "data": {
            "text/plain": [
              "0.0       437\n",
              "1.0     30692\n",
              "2.0     25870\n",
              "3.0     15404\n",
              "4.0      2142\n",
              "5.0       193\n",
              "6.0        61\n",
              "7.0         9\n",
              "11.0        1\n",
              "12.0        1\n",
              "15.0        1\n",
              "Name: bedrooms, dtype: int64"
            ]
          },
          "metadata": {
            "tags": []
          },
          "execution_count": 27
        }
      ]
    },
    {
      "cell_type": "code",
      "metadata": {
        "colab": {
          "base_uri": "https://localhost:8080/",
          "height": 0
        },
        "id": "DrCfQbeyDh5T",
        "outputId": "d93540d6-c414-475f-b50a-5e7abb944478"
      },
      "source": [
        "data_clean.drop(data_clean[data_clean[\"bedrooms\"] > 3.5].index, inplace= True)\n",
        "data_clean.describe()"
      ],
      "execution_count": 28,
      "outputs": [
        {
          "output_type": "execute_result",
          "data": {
            "text/html": [
              "<div>\n",
              "<style scoped>\n",
              "    .dataframe tbody tr th:only-of-type {\n",
              "        vertical-align: middle;\n",
              "    }\n",
              "\n",
              "    .dataframe tbody tr th {\n",
              "        vertical-align: top;\n",
              "    }\n",
              "\n",
              "    .dataframe thead th {\n",
              "        text-align: right;\n",
              "    }\n",
              "</style>\n",
              "<table border=\"1\" class=\"dataframe\">\n",
              "  <thead>\n",
              "    <tr style=\"text-align: right;\">\n",
              "      <th></th>\n",
              "      <th>rooms</th>\n",
              "      <th>bedrooms</th>\n",
              "      <th>bathrooms</th>\n",
              "      <th>surface_total</th>\n",
              "      <th>surface_covered</th>\n",
              "      <th>price</th>\n",
              "    </tr>\n",
              "  </thead>\n",
              "  <tbody>\n",
              "    <tr>\n",
              "      <th>count</th>\n",
              "      <td>72403.000000</td>\n",
              "      <td>72403.000000</td>\n",
              "      <td>71697.000000</td>\n",
              "      <td>72403.000000</td>\n",
              "      <td>72403.000000</td>\n",
              "      <td>7.240300e+04</td>\n",
              "    </tr>\n",
              "    <tr>\n",
              "      <th>mean</th>\n",
              "      <td>2.730798</td>\n",
              "      <td>1.776777</td>\n",
              "      <td>1.408706</td>\n",
              "      <td>75.619187</td>\n",
              "      <td>66.831319</td>\n",
              "      <td>2.101069e+05</td>\n",
              "    </tr>\n",
              "    <tr>\n",
              "      <th>std</th>\n",
              "      <td>0.963564</td>\n",
              "      <td>0.781653</td>\n",
              "      <td>0.673036</td>\n",
              "      <td>37.533663</td>\n",
              "      <td>32.250109</td>\n",
              "      <td>1.531770e+05</td>\n",
              "    </tr>\n",
              "    <tr>\n",
              "      <th>min</th>\n",
              "      <td>1.000000</td>\n",
              "      <td>0.000000</td>\n",
              "      <td>1.000000</td>\n",
              "      <td>15.000000</td>\n",
              "      <td>1.000000</td>\n",
              "      <td>6.000000e+03</td>\n",
              "    </tr>\n",
              "    <tr>\n",
              "      <th>25%</th>\n",
              "      <td>2.000000</td>\n",
              "      <td>1.000000</td>\n",
              "      <td>1.000000</td>\n",
              "      <td>47.000000</td>\n",
              "      <td>43.000000</td>\n",
              "      <td>1.200000e+05</td>\n",
              "    </tr>\n",
              "    <tr>\n",
              "      <th>50%</th>\n",
              "      <td>3.000000</td>\n",
              "      <td>2.000000</td>\n",
              "      <td>1.000000</td>\n",
              "      <td>66.000000</td>\n",
              "      <td>58.000000</td>\n",
              "      <td>1.673830e+05</td>\n",
              "    </tr>\n",
              "    <tr>\n",
              "      <th>75%</th>\n",
              "      <td>3.000000</td>\n",
              "      <td>2.000000</td>\n",
              "      <td>2.000000</td>\n",
              "      <td>94.000000</td>\n",
              "      <td>81.000000</td>\n",
              "      <td>2.490000e+05</td>\n",
              "    </tr>\n",
              "    <tr>\n",
              "      <th>max</th>\n",
              "      <td>7.000000</td>\n",
              "      <td>3.000000</td>\n",
              "      <td>14.000000</td>\n",
              "      <td>201.000000</td>\n",
              "      <td>200.000000</td>\n",
              "      <td>3.249900e+06</td>\n",
              "    </tr>\n",
              "  </tbody>\n",
              "</table>\n",
              "</div>"
            ],
            "text/plain": [
              "              rooms      bedrooms  ...  surface_covered         price\n",
              "count  72403.000000  72403.000000  ...     72403.000000  7.240300e+04\n",
              "mean       2.730798      1.776777  ...        66.831319  2.101069e+05\n",
              "std        0.963564      0.781653  ...        32.250109  1.531770e+05\n",
              "min        1.000000      0.000000  ...         1.000000  6.000000e+03\n",
              "25%        2.000000      1.000000  ...        43.000000  1.200000e+05\n",
              "50%        3.000000      2.000000  ...        58.000000  1.673830e+05\n",
              "75%        3.000000      2.000000  ...        81.000000  2.490000e+05\n",
              "max        7.000000      3.000000  ...       200.000000  3.249900e+06\n",
              "\n",
              "[8 rows x 6 columns]"
            ]
          },
          "metadata": {
            "tags": []
          },
          "execution_count": 28
        }
      ]
    },
    {
      "cell_type": "markdown",
      "metadata": {
        "id": "HkSO0jxUDq1o"
      },
      "source": [
        "procedo a estudiar la distribucion de bathrooms puesto que 14 baños me parecen demasiados para propiedades de estas caracteristicas"
      ]
    },
    {
      "cell_type": "code",
      "metadata": {
        "colab": {
          "base_uri": "https://localhost:8080/"
        },
        "id": "YDtRCYZcc2il",
        "outputId": "25fe246f-9862-4c76-921a-c085142da1e9"
      },
      "source": [
        "data_clean.bathrooms.value_counts().sort_index()"
      ],
      "execution_count": 29,
      "outputs": [
        {
          "output_type": "execute_result",
          "data": {
            "text/plain": [
              "1.0     48483\n",
              "2.0     18158\n",
              "3.0      4190\n",
              "4.0       771\n",
              "5.0        84\n",
              "10.0        4\n",
              "11.0        3\n",
              "12.0        1\n",
              "14.0        3\n",
              "Name: bathrooms, dtype: int64"
            ]
          },
          "metadata": {
            "tags": []
          },
          "execution_count": 29
        }
      ]
    },
    {
      "cell_type": "code",
      "metadata": {
        "colab": {
          "base_uri": "https://localhost:8080/"
        },
        "id": "wkrTvtkkHZhl",
        "outputId": "fe89a7d5-bc2d-4300-bf51-7c51c835220d"
      },
      "source": [
        "data_clean.info()"
      ],
      "execution_count": 30,
      "outputs": [
        {
          "output_type": "stream",
          "text": [
            "<class 'pandas.core.frame.DataFrame'>\n",
            "Int64Index: 72403 entries, 1 to 146557\n",
            "Data columns (total 7 columns):\n",
            " #   Column           Non-Null Count  Dtype  \n",
            "---  ------           --------------  -----  \n",
            " 0   property_type    72403 non-null  object \n",
            " 1   rooms            72403 non-null  float64\n",
            " 2   bedrooms         72403 non-null  float64\n",
            " 3   bathrooms        71697 non-null  float64\n",
            " 4   surface_total    72403 non-null  float64\n",
            " 5   surface_covered  72403 non-null  float64\n",
            " 6   price            72403 non-null  float64\n",
            "dtypes: float64(6), object(1)\n",
            "memory usage: 4.4+ MB\n"
          ],
          "name": "stdout"
        }
      ]
    },
    {
      "cell_type": "code",
      "metadata": {
        "colab": {
          "base_uri": "https://localhost:8080/",
          "height": 0
        },
        "id": "x_Sbu6T72CEh",
        "outputId": "59d5cb0f-4ba4-4462-814d-d862a60776f4"
      },
      "source": [
        "data_clean.bathrooms.hist()"
      ],
      "execution_count": 31,
      "outputs": [
        {
          "output_type": "execute_result",
          "data": {
            "text/plain": [
              "<matplotlib.axes._subplots.AxesSubplot at 0x7feea009dd90>"
            ]
          },
          "metadata": {
            "tags": []
          },
          "execution_count": 31
        },
        {
          "output_type": "display_data",
          "data": {
            "image/png": "[encoded data removed]",
            "text/plain": [
              "<Figure size 432x288 with 1 Axes>"
            ]
          },
          "metadata": {
            "tags": [],
            "needs_background": "light"
          }
        }
      ]
    },
    {
      "cell_type": "code",
      "metadata": {
        "colab": {
          "base_uri": "https://localhost:8080/",
          "height": 0
        },
        "id": "o2VnCc99D94a",
        "outputId": "71cf84ec-9f63-42ae-b3d6-85225a024dfe"
      },
      "source": [
        "q25,q75 = np.nanpercentile(data_clean.bathrooms, 25), np.nanpercentile(data_clean.bathrooms, 75)\n",
        "iqr = q75 - q25\n",
        "print('Q25: ', q25,'\\nQ75: ',q75, '\\nIQR: ',iqr)\n",
        "print('Rango óptimo MAX: ', q75 + 1.5* iqr)\n",
        "\n",
        "plt.figure(figsize = (17,2)) #box\n",
        "sns.boxplot(data_clean['bathrooms'])\n",
        "plt.xlabel('Bathrooms', size = 10)\n",
        "plt.title('Distribución',size = 15)\n",
        "plt.show()"
      ],
      "execution_count": 32,
      "outputs": [
        {
          "output_type": "stream",
          "text": [
            "Q25:  1.0 \n",
            "Q75:  2.0 \n",
            "IQR:  1.0\n",
            "Rango óptimo MAX:  3.5\n"
          ],
          "name": "stdout"
        },
        {
          "output_type": "stream",
          "text": [
            "/usr/local/lib/python3.7/dist-packages/seaborn/_decorators.py:43: FutureWarning: Pass the following variable as a keyword arg: x. From version 0.12, the only valid positional argument will be `data`, and passing other arguments without an explicit keyword will result in an error or misinterpretation.\n",
            "  FutureWarning\n"
          ],
          "name": "stderr"
        },
        {
          "output_type": "display_data",
          "data": {
            "image/png": "[encoded data removed]",
            "text/plain": [
              "<Figure size 1224x144 with 1 Axes>"
            ]
          },
          "metadata": {
            "tags": [],
            "needs_background": "light"
          }
        }
      ]
    },
    {
      "cell_type": "code",
      "metadata": {
        "id": "skHoEQwNExvK"
      },
      "source": [
        "def f_intercuartilico(data_set, columna):\n",
        "    Q1, Q3 = np.nanpercentile(data_set[columna], [25 ,75])\n",
        "    IQR = Q3 - Q1\n",
        "    MIN = Q1 - 1.5 * IQR\n",
        "    MAX = Q3 + 1.5 * IQR\n",
        "    return MIN, MAX\n"
      ],
      "execution_count": 33,
      "outputs": []
    },
    {
      "cell_type": "code",
      "metadata": {
        "colab": {
          "base_uri": "https://localhost:8080/"
        },
        "id": "zA7asguDE2qn",
        "outputId": "5f304ffa-ae29-411a-ef42-d017a5952cd6"
      },
      "source": [
        "f_intercuartilico(data_clean,\"bathrooms\")"
      ],
      "execution_count": 34,
      "outputs": [
        {
          "output_type": "execute_result",
          "data": {
            "text/plain": [
              "(-0.5, 3.5)"
            ]
          },
          "metadata": {
            "tags": []
          },
          "execution_count": 34
        }
      ]
    },
    {
      "cell_type": "code",
      "metadata": {
        "id": "_Z3U_KgeeI2z",
        "colab": {
          "base_uri": "https://localhost:8080/"
        },
        "outputId": "9bb95517-8883-426c-a310-eef3fec6b70a"
      },
      "source": [
        "print('Las propiedades con más de 3.5 baños respresentan el', round((data_clean[data_clean.bathrooms > 3.5].shape[0]/data_clean.bathrooms.shape[0])*100,2),'% de nuestro dataset al momento.')"
      ],
      "execution_count": 35,
      "outputs": [
        {
          "output_type": "stream",
          "text": [
            "Las propiedades con más de 3.5 baños respresentan el 1.2 % de nuestro dataset al momento.\n"
          ],
          "name": "stdout"
        }
      ]
    },
    {
      "cell_type": "code",
      "metadata": {
        "id": "e-q0xlbLeota"
      },
      "source": [
        "data_clean.drop(data_clean[data_clean[\"bathrooms\"] > 3.5].index, inplace= True)"
      ],
      "execution_count": 36,
      "outputs": []
    },
    {
      "cell_type": "code",
      "metadata": {
        "colab": {
          "base_uri": "https://localhost:8080/",
          "height": 0
        },
        "id": "51xVM2VOgl7o",
        "outputId": "c3d673cc-0345-43d3-a8ba-19d815606ecf"
      },
      "source": [
        "data_clean.describe()"
      ],
      "execution_count": 37,
      "outputs": [
        {
          "output_type": "execute_result",
          "data": {
            "text/html": [
              "<div>\n",
              "<style scoped>\n",
              "    .dataframe tbody tr th:only-of-type {\n",
              "        vertical-align: middle;\n",
              "    }\n",
              "\n",
              "    .dataframe tbody tr th {\n",
              "        vertical-align: top;\n",
              "    }\n",
              "\n",
              "    .dataframe thead th {\n",
              "        text-align: right;\n",
              "    }\n",
              "</style>\n",
              "<table border=\"1\" class=\"dataframe\">\n",
              "  <thead>\n",
              "    <tr style=\"text-align: right;\">\n",
              "      <th></th>\n",
              "      <th>rooms</th>\n",
              "      <th>bedrooms</th>\n",
              "      <th>bathrooms</th>\n",
              "      <th>surface_total</th>\n",
              "      <th>surface_covered</th>\n",
              "      <th>price</th>\n",
              "    </tr>\n",
              "  </thead>\n",
              "  <tbody>\n",
              "    <tr>\n",
              "      <th>count</th>\n",
              "      <td>71537.000000</td>\n",
              "      <td>71537.000000</td>\n",
              "      <td>70831.000000</td>\n",
              "      <td>71537.000000</td>\n",
              "      <td>71537.000000</td>\n",
              "      <td>7.153700e+04</td>\n",
              "    </tr>\n",
              "    <tr>\n",
              "      <th>mean</th>\n",
              "      <td>2.715700</td>\n",
              "      <td>1.763619</td>\n",
              "      <td>1.374666</td>\n",
              "      <td>74.660721</td>\n",
              "      <td>65.933223</td>\n",
              "      <td>2.051033e+05</td>\n",
              "    </tr>\n",
              "    <tr>\n",
              "      <th>std</th>\n",
              "      <td>0.957509</td>\n",
              "      <td>0.776014</td>\n",
              "      <td>0.593807</td>\n",
              "      <td>36.601748</td>\n",
              "      <td>31.249199</td>\n",
              "      <td>1.422631e+05</td>\n",
              "    </tr>\n",
              "    <tr>\n",
              "      <th>min</th>\n",
              "      <td>1.000000</td>\n",
              "      <td>0.000000</td>\n",
              "      <td>1.000000</td>\n",
              "      <td>15.000000</td>\n",
              "      <td>1.000000</td>\n",
              "      <td>6.000000e+03</td>\n",
              "    </tr>\n",
              "    <tr>\n",
              "      <th>25%</th>\n",
              "      <td>2.000000</td>\n",
              "      <td>1.000000</td>\n",
              "      <td>1.000000</td>\n",
              "      <td>47.000000</td>\n",
              "      <td>43.000000</td>\n",
              "      <td>1.190000e+05</td>\n",
              "    </tr>\n",
              "    <tr>\n",
              "      <th>50%</th>\n",
              "      <td>3.000000</td>\n",
              "      <td>2.000000</td>\n",
              "      <td>1.000000</td>\n",
              "      <td>65.000000</td>\n",
              "      <td>58.000000</td>\n",
              "      <td>1.650000e+05</td>\n",
              "    </tr>\n",
              "    <tr>\n",
              "      <th>75%</th>\n",
              "      <td>3.000000</td>\n",
              "      <td>2.000000</td>\n",
              "      <td>2.000000</td>\n",
              "      <td>92.000000</td>\n",
              "      <td>80.000000</td>\n",
              "      <td>2.450000e+05</td>\n",
              "    </tr>\n",
              "    <tr>\n",
              "      <th>max</th>\n",
              "      <td>7.000000</td>\n",
              "      <td>3.000000</td>\n",
              "      <td>3.000000</td>\n",
              "      <td>201.000000</td>\n",
              "      <td>200.000000</td>\n",
              "      <td>3.249900e+06</td>\n",
              "    </tr>\n",
              "  </tbody>\n",
              "</table>\n",
              "</div>"
            ],
            "text/plain": [
              "              rooms      bedrooms  ...  surface_covered         price\n",
              "count  71537.000000  71537.000000  ...     71537.000000  7.153700e+04\n",
              "mean       2.715700      1.763619  ...        65.933223  2.051033e+05\n",
              "std        0.957509      0.776014  ...        31.249199  1.422631e+05\n",
              "min        1.000000      0.000000  ...         1.000000  6.000000e+03\n",
              "25%        2.000000      1.000000  ...        43.000000  1.190000e+05\n",
              "50%        3.000000      2.000000  ...        58.000000  1.650000e+05\n",
              "75%        3.000000      2.000000  ...        80.000000  2.450000e+05\n",
              "max        7.000000      3.000000  ...       200.000000  3.249900e+06\n",
              "\n",
              "[8 rows x 6 columns]"
            ]
          },
          "metadata": {
            "tags": []
          },
          "execution_count": 37
        }
      ]
    },
    {
      "cell_type": "code",
      "metadata": {
        "colab": {
          "base_uri": "https://localhost:8080/"
        },
        "id": "NYm1YFMCgwEp",
        "outputId": "463e8af8-da91-405f-b47e-227a433d999a"
      },
      "source": [
        "data_clean.shape"
      ],
      "execution_count": 38,
      "outputs": [
        {
          "output_type": "execute_result",
          "data": {
            "text/plain": [
              "(71537, 7)"
            ]
          },
          "metadata": {
            "tags": []
          },
          "execution_count": 38
        }
      ]
    },
    {
      "cell_type": "code",
      "metadata": {
        "colab": {
          "base_uri": "https://localhost:8080/"
        },
        "id": "EbyXLirEh0uA",
        "outputId": "a61630a0-3f13-4e46-c834-db23edd27d4b"
      },
      "source": [
        "\n",
        "q1_price = data_clean['price'].quantile(0.25)\n",
        "q3_price = data_clean['price'].quantile(0.75)\n",
        "iq_price = q3_price - q1_price\n",
        "op_price = q3_price+1.5*iq_price\n",
        "\n",
        "print(\"Primer cuartil: {}\".format(q1_price))\n",
        "print(\"Tercer cuartil: {}\".format(q3_price))\n",
        "print(\"Rango intercuartílico: {}\".format(iq_price))\n",
        "print(\"Rango óptimo MAX: {}\".format(op_price))"
      ],
      "execution_count": 39,
      "outputs": [
        {
          "output_type": "stream",
          "text": [
            "Primer cuartil: 119000.0\n",
            "Tercer cuartil: 245000.0\n",
            "Rango intercuartílico: 126000.0\n",
            "Rango óptimo MAX: 434000.0\n"
          ],
          "name": "stdout"
        }
      ]
    },
    {
      "cell_type": "code",
      "metadata": {
        "colab": {
          "base_uri": "https://localhost:8080/",
          "height": 0
        },
        "id": "Zo4dtYzNh-YW",
        "outputId": "b4f30cd3-fd88-430b-81c6-47de4edf948d"
      },
      "source": [
        "op_price = data_clean['price'] < 434000\n",
        "\n",
        "plt.figure(figsize = (30,10))\n",
        "\n",
        "plt.subplot(2,1,1)\n",
        "sns.boxplot(data_clean['price'][op_price])\n",
        "plt.xlabel(\"\")\n",
        "plt.title('Distribución de Precio filtrando IQR', size = 30)\n",
        "\n",
        "plt.subplot(2,1,2)\n",
        "sns.distplot(data_clean['price'][op_price])\n",
        "plt.xlabel('Precio USD', size = 20)\n",
        "\n",
        "plt.show()"
      ],
      "execution_count": 40,
      "outputs": [
        {
          "output_type": "stream",
          "text": [
            "/usr/local/lib/python3.7/dist-packages/seaborn/_decorators.py:43: FutureWarning: Pass the following variable as a keyword arg: x. From version 0.12, the only valid positional argument will be `data`, and passing other arguments without an explicit keyword will result in an error or misinterpretation.\n",
            "  FutureWarning\n",
            "/usr/local/lib/python3.7/dist-packages/seaborn/distributions.py:2557: FutureWarning: `distplot` is a deprecated function and will be removed in a future version. Please adapt your code to use either `displot` (a figure-level function with similar flexibility) or `histplot` (an axes-level function for histograms).\n",
            "  warnings.warn(msg, FutureWarning)\n"
          ],
          "name": "stderr"
        },
        {
          "output_type": "display_data",
          "data": {
            "image/png": "[encoded data removed]",
            "text/plain": [
              "<Figure size 2160x720 with 2 Axes>"
            ]
          },
          "metadata": {
            "tags": [],
            "needs_background": "light"
          }
        }
      ]
    },
    {
      "cell_type": "code",
      "metadata": {
        "colab": {
          "base_uri": "https://localhost:8080/"
        },
        "id": "69UDjjf2iYce",
        "outputId": "128926ef-80b8-4cee-e87b-eb10251f3b3f"
      },
      "source": [
        "print('Las propiedades con precio de más de 434000 USD respresentan el', \n",
        "      round((data_clean[data_clean.price > 434000].shape[0]/data_clean.price.shape[0])*100,2),'% de nuestro dataset al momento.')"
      ],
      "execution_count": 41,
      "outputs": [
        {
          "output_type": "stream",
          "text": [
            "Las propiedades con precio de más de 434000 USD respresentan el 5.82 % de nuestro dataset al momento.\n"
          ],
          "name": "stdout"
        }
      ]
    },
    {
      "cell_type": "code",
      "metadata": {
        "id": "tTsTD-weitH-"
      },
      "source": [
        "data_clean.drop(data_clean[data_clean[\"price\"] > 434000].index, inplace= True)"
      ],
      "execution_count": 42,
      "outputs": []
    },
    {
      "cell_type": "code",
      "metadata": {
        "colab": {
          "base_uri": "https://localhost:8080/"
        },
        "id": "dx3Gyxmbiw9B",
        "outputId": "9efbd487-a77f-4432-f0d3-698262d5819d"
      },
      "source": [
        "data_clean.shape"
      ],
      "execution_count": 43,
      "outputs": [
        {
          "output_type": "execute_result",
          "data": {
            "text/plain": [
              "(67375, 7)"
            ]
          },
          "metadata": {
            "tags": []
          },
          "execution_count": 43
        }
      ]
    },
    {
      "cell_type": "code",
      "metadata": {
        "colab": {
          "base_uri": "https://localhost:8080/",
          "height": 0
        },
        "id": "pZ7qqf0sizm_",
        "outputId": "1c36211c-f28f-4209-c8ed-70a61655cc53"
      },
      "source": [
        "data_clean.describe()"
      ],
      "execution_count": 44,
      "outputs": [
        {
          "output_type": "execute_result",
          "data": {
            "text/html": [
              "<div>\n",
              "<style scoped>\n",
              "    .dataframe tbody tr th:only-of-type {\n",
              "        vertical-align: middle;\n",
              "    }\n",
              "\n",
              "    .dataframe tbody tr th {\n",
              "        vertical-align: top;\n",
              "    }\n",
              "\n",
              "    .dataframe thead th {\n",
              "        text-align: right;\n",
              "    }\n",
              "</style>\n",
              "<table border=\"1\" class=\"dataframe\">\n",
              "  <thead>\n",
              "    <tr style=\"text-align: right;\">\n",
              "      <th></th>\n",
              "      <th>rooms</th>\n",
              "      <th>bedrooms</th>\n",
              "      <th>bathrooms</th>\n",
              "      <th>surface_total</th>\n",
              "      <th>surface_covered</th>\n",
              "      <th>price</th>\n",
              "    </tr>\n",
              "  </thead>\n",
              "  <tbody>\n",
              "    <tr>\n",
              "      <th>count</th>\n",
              "      <td>67375.000000</td>\n",
              "      <td>67375.000000</td>\n",
              "      <td>66700.000000</td>\n",
              "      <td>67375.000000</td>\n",
              "      <td>67375.000000</td>\n",
              "      <td>67375.000000</td>\n",
              "    </tr>\n",
              "    <tr>\n",
              "      <th>mean</th>\n",
              "      <td>2.657796</td>\n",
              "      <td>1.719466</td>\n",
              "      <td>1.316042</td>\n",
              "      <td>70.639763</td>\n",
              "      <td>62.127525</td>\n",
              "      <td>178868.810212</td>\n",
              "    </tr>\n",
              "    <tr>\n",
              "      <th>std</th>\n",
              "      <td>0.932266</td>\n",
              "      <td>0.761769</td>\n",
              "      <td>0.541697</td>\n",
              "      <td>32.811843</td>\n",
              "      <td>26.913000</td>\n",
              "      <td>82644.363361</td>\n",
              "    </tr>\n",
              "    <tr>\n",
              "      <th>min</th>\n",
              "      <td>1.000000</td>\n",
              "      <td>0.000000</td>\n",
              "      <td>1.000000</td>\n",
              "      <td>15.000000</td>\n",
              "      <td>2.000000</td>\n",
              "      <td>6000.000000</td>\n",
              "    </tr>\n",
              "    <tr>\n",
              "      <th>25%</th>\n",
              "      <td>2.000000</td>\n",
              "      <td>1.000000</td>\n",
              "      <td>1.000000</td>\n",
              "      <td>46.000000</td>\n",
              "      <td>42.000000</td>\n",
              "      <td>115000.000000</td>\n",
              "    </tr>\n",
              "    <tr>\n",
              "      <th>50%</th>\n",
              "      <td>3.000000</td>\n",
              "      <td>2.000000</td>\n",
              "      <td>1.000000</td>\n",
              "      <td>63.000000</td>\n",
              "      <td>56.000000</td>\n",
              "      <td>159900.000000</td>\n",
              "    </tr>\n",
              "    <tr>\n",
              "      <th>75%</th>\n",
              "      <td>3.000000</td>\n",
              "      <td>2.000000</td>\n",
              "      <td>2.000000</td>\n",
              "      <td>86.000000</td>\n",
              "      <td>76.000000</td>\n",
              "      <td>228000.000000</td>\n",
              "    </tr>\n",
              "    <tr>\n",
              "      <th>max</th>\n",
              "      <td>7.000000</td>\n",
              "      <td>3.000000</td>\n",
              "      <td>3.000000</td>\n",
              "      <td>201.000000</td>\n",
              "      <td>200.000000</td>\n",
              "      <td>434000.000000</td>\n",
              "    </tr>\n",
              "  </tbody>\n",
              "</table>\n",
              "</div>"
            ],
            "text/plain": [
              "              rooms      bedrooms  ...  surface_covered          price\n",
              "count  67375.000000  67375.000000  ...     67375.000000   67375.000000\n",
              "mean       2.657796      1.719466  ...        62.127525  178868.810212\n",
              "std        0.932266      0.761769  ...        26.913000   82644.363361\n",
              "min        1.000000      0.000000  ...         2.000000    6000.000000\n",
              "25%        2.000000      1.000000  ...        42.000000  115000.000000\n",
              "50%        3.000000      2.000000  ...        56.000000  159900.000000\n",
              "75%        3.000000      2.000000  ...        76.000000  228000.000000\n",
              "max        7.000000      3.000000  ...       200.000000  434000.000000\n",
              "\n",
              "[8 rows x 6 columns]"
            ]
          },
          "metadata": {
            "tags": []
          },
          "execution_count": 44
        }
      ]
    },
    {
      "cell_type": "code",
      "metadata": {
        "colab": {
          "base_uri": "https://localhost:8080/"
        },
        "id": "dpZCBstDwU3K",
        "outputId": "19fe65b9-3914-40ce-d2c8-d56dd46696c6"
      },
      "source": [
        "print('Cantidad de Valores Faltantes por atributos:') \n",
        "print(data_clean.isnull().sum())"
      ],
      "execution_count": 45,
      "outputs": [
        {
          "output_type": "stream",
          "text": [
            "Cantidad de Valores Faltantes por atributos:\n",
            "property_type        0\n",
            "rooms                0\n",
            "bedrooms             0\n",
            "bathrooms          675\n",
            "surface_total        0\n",
            "surface_covered      0\n",
            "price                0\n",
            "dtype: int64\n"
          ],
          "name": "stdout"
        }
      ]
    },
    {
      "cell_type": "markdown",
      "metadata": {
        "id": "6FcAiA3RzKng"
      },
      "source": [
        "# Tratamiento de Valores Faltantes baños\n",
        "\n",
        "Procedo a imputar los valores faltantes en bathrooms con su mediana, puesto que no tendria mucho sentido usar el promedio en este caso"
      ]
    },
    {
      "cell_type": "code",
      "metadata": {
        "colab": {
          "base_uri": "https://localhost:8080/"
        },
        "id": "xVACZzwKGx3_",
        "outputId": "5225198a-8a43-4a95-d782-97742639086d"
      },
      "source": [
        "data_clean.bathrooms.median()\n"
      ],
      "execution_count": 46,
      "outputs": [
        {
          "output_type": "execute_result",
          "data": {
            "text/plain": [
              "1.0"
            ]
          },
          "metadata": {
            "tags": []
          },
          "execution_count": 46
        }
      ]
    },
    {
      "cell_type": "code",
      "metadata": {
        "id": "VKqju4OEMQQL"
      },
      "source": [
        "data_clean['bathrooms'].fillna(data_clean['bathrooms'].median(), inplace=True)\n",
        " \n"
      ],
      "execution_count": 47,
      "outputs": []
    },
    {
      "cell_type": "code",
      "metadata": {
        "colab": {
          "base_uri": "https://localhost:8080/"
        },
        "id": "dFRWDBXQUIW3",
        "outputId": "402a57fb-a734-416d-c0bd-c809e59225cd"
      },
      "source": [
        "print(data_clean.isnull().sum())"
      ],
      "execution_count": 48,
      "outputs": [
        {
          "output_type": "stream",
          "text": [
            "property_type      0\n",
            "rooms              0\n",
            "bedrooms           0\n",
            "bathrooms          0\n",
            "surface_total      0\n",
            "surface_covered    0\n",
            "price              0\n",
            "dtype: int64\n"
          ],
          "name": "stdout"
        }
      ]
    },
    {
      "cell_type": "code",
      "metadata": {
        "colab": {
          "base_uri": "https://localhost:8080/",
          "height": 0
        },
        "id": "zQ3AUBRBUMYE",
        "outputId": "33b6e70b-5c89-4206-cc41-49dfb43e719c"
      },
      "source": [
        "data_clean.describe()"
      ],
      "execution_count": 49,
      "outputs": [
        {
          "output_type": "execute_result",
          "data": {
            "text/html": [
              "<div>\n",
              "<style scoped>\n",
              "    .dataframe tbody tr th:only-of-type {\n",
              "        vertical-align: middle;\n",
              "    }\n",
              "\n",
              "    .dataframe tbody tr th {\n",
              "        vertical-align: top;\n",
              "    }\n",
              "\n",
              "    .dataframe thead th {\n",
              "        text-align: right;\n",
              "    }\n",
              "</style>\n",
              "<table border=\"1\" class=\"dataframe\">\n",
              "  <thead>\n",
              "    <tr style=\"text-align: right;\">\n",
              "      <th></th>\n",
              "      <th>rooms</th>\n",
              "      <th>bedrooms</th>\n",
              "      <th>bathrooms</th>\n",
              "      <th>surface_total</th>\n",
              "      <th>surface_covered</th>\n",
              "      <th>price</th>\n",
              "    </tr>\n",
              "  </thead>\n",
              "  <tbody>\n",
              "    <tr>\n",
              "      <th>count</th>\n",
              "      <td>67375.000000</td>\n",
              "      <td>67375.000000</td>\n",
              "      <td>67375.000000</td>\n",
              "      <td>67375.000000</td>\n",
              "      <td>67375.000000</td>\n",
              "      <td>67375.000000</td>\n",
              "    </tr>\n",
              "    <tr>\n",
              "      <th>mean</th>\n",
              "      <td>2.657796</td>\n",
              "      <td>1.719466</td>\n",
              "      <td>1.312876</td>\n",
              "      <td>70.639763</td>\n",
              "      <td>62.127525</td>\n",
              "      <td>178868.810212</td>\n",
              "    </tr>\n",
              "    <tr>\n",
              "      <th>std</th>\n",
              "      <td>0.932266</td>\n",
              "      <td>0.761769</td>\n",
              "      <td>0.539894</td>\n",
              "      <td>32.811843</td>\n",
              "      <td>26.913000</td>\n",
              "      <td>82644.363361</td>\n",
              "    </tr>\n",
              "    <tr>\n",
              "      <th>min</th>\n",
              "      <td>1.000000</td>\n",
              "      <td>0.000000</td>\n",
              "      <td>1.000000</td>\n",
              "      <td>15.000000</td>\n",
              "      <td>2.000000</td>\n",
              "      <td>6000.000000</td>\n",
              "    </tr>\n",
              "    <tr>\n",
              "      <th>25%</th>\n",
              "      <td>2.000000</td>\n",
              "      <td>1.000000</td>\n",
              "      <td>1.000000</td>\n",
              "      <td>46.000000</td>\n",
              "      <td>42.000000</td>\n",
              "      <td>115000.000000</td>\n",
              "    </tr>\n",
              "    <tr>\n",
              "      <th>50%</th>\n",
              "      <td>3.000000</td>\n",
              "      <td>2.000000</td>\n",
              "      <td>1.000000</td>\n",
              "      <td>63.000000</td>\n",
              "      <td>56.000000</td>\n",
              "      <td>159900.000000</td>\n",
              "    </tr>\n",
              "    <tr>\n",
              "      <th>75%</th>\n",
              "      <td>3.000000</td>\n",
              "      <td>2.000000</td>\n",
              "      <td>2.000000</td>\n",
              "      <td>86.000000</td>\n",
              "      <td>76.000000</td>\n",
              "      <td>228000.000000</td>\n",
              "    </tr>\n",
              "    <tr>\n",
              "      <th>max</th>\n",
              "      <td>7.000000</td>\n",
              "      <td>3.000000</td>\n",
              "      <td>3.000000</td>\n",
              "      <td>201.000000</td>\n",
              "      <td>200.000000</td>\n",
              "      <td>434000.000000</td>\n",
              "    </tr>\n",
              "  </tbody>\n",
              "</table>\n",
              "</div>"
            ],
            "text/plain": [
              "              rooms      bedrooms  ...  surface_covered          price\n",
              "count  67375.000000  67375.000000  ...     67375.000000   67375.000000\n",
              "mean       2.657796      1.719466  ...        62.127525  178868.810212\n",
              "std        0.932266      0.761769  ...        26.913000   82644.363361\n",
              "min        1.000000      0.000000  ...         2.000000    6000.000000\n",
              "25%        2.000000      1.000000  ...        42.000000  115000.000000\n",
              "50%        3.000000      2.000000  ...        56.000000  159900.000000\n",
              "75%        3.000000      2.000000  ...        76.000000  228000.000000\n",
              "max        7.000000      3.000000  ...       200.000000  434000.000000\n",
              "\n",
              "[8 rows x 6 columns]"
            ]
          },
          "metadata": {
            "tags": []
          },
          "execution_count": 49
        }
      ]
    },
    {
      "cell_type": "code",
      "metadata": {
        "colab": {
          "base_uri": "https://localhost:8080/",
          "height": 0
        },
        "id": "B9uawT8_g3oA",
        "outputId": "ce4a75c9-317e-471d-d32f-1100491e7d40"
      },
      "source": [
        "corr = data_clean.corr(method='pearson', min_periods=1) #saco la correlación para graficar\n",
        "plt.figure(figsize=(10,10))\n",
        "sns.heatmap(corr, cbar = True,  square = True, annot=True, fmt= '.2f',annot_kws={'size': 15},\n",
        "           cmap= 'coolwarm') #paleta de  colores\n",
        "plt.xticks(rotation = 50)\n",
        "plt.yticks(rotation = 50)\n",
        "plt.title('Matriz de Correlación', size = 15)\n",
        "plt.show()"
      ],
      "execution_count": 50,
      "outputs": [
        {
          "output_type": "display_data",
          "data": {
            "image/png": "[encoded data removed]",
            "text/plain": [
              "<Figure size 720x720 with 2 Axes>"
            ]
          },
          "metadata": {
            "tags": [],
            "needs_background": "light"
          }
        }
      ]
    },
    {
      "cell_type": "code",
      "metadata": {
        "id": "QEeEGkWXhqPj"
      },
      "source": [
        "#Dividimos la variable categórica \n",
        "\n",
        "dptos = data_clean[data_clean.property_type == 'Departamento']\n",
        "casas = data_clean[data_clean.property_type == 'Casa']\n",
        "ph = data_clean[data_clean.property_type == 'PH']"
      ],
      "execution_count": 51,
      "outputs": []
    },
    {
      "cell_type": "code",
      "metadata": {
        "colab": {
          "base_uri": "https://localhost:8080/",
          "height": 0
        },
        "id": "ze6tEyvzhrTw",
        "outputId": "2beee5f2-4895-46f3-b818-c87a6ab2c59b"
      },
      "source": [
        "plt.figure(figsize=(20,15))\n",
        "\n",
        "plt.subplot(1,3,1)\n",
        "corr_casas = casas.corr(method='pearson', min_periods=1)\n",
        "sns.heatmap(corr_casas, cbar = False,  square = True, annot=True, fmt= '.2f', annot_kws={'size': 15}) \n",
        "plt.xticks(rotation = 60)\n",
        "plt.yticks(rotation = 60)\n",
        "plt.title('Correlación en CASAS', size = 20)\n",
        "\n",
        "plt.subplot(1,3,2)\n",
        "corr_dptos = dptos.corr(method='pearson', min_periods=1) \n",
        "sns.heatmap(corr_dptos, cbar = False,  square = True, annot=True, fmt= '.2f',annot_kws={'size': 15}) \n",
        "plt.xticks(rotation = 60)\n",
        "plt.yticks(rotation = 60)\n",
        "plt.title('Correlación en DEPARTAMENTOS', size = 20)\n",
        "\n",
        "plt.subplot(1,3,3)\n",
        "corr_ph = ph.corr(method='pearson', min_periods=1) \n",
        "sns.heatmap(corr_ph, cbar = False,  square = True, annot=True, fmt= '.2f',annot_kws={'size': 15})\n",
        "plt.xticks(rotation = 60)\n",
        "plt.yticks(rotation = 60)\n",
        "plt.title('Correlación en PH', size = 20)\n",
        "\n",
        "\n",
        "plt.show()"
      ],
      "execution_count": 52,
      "outputs": [
        {
          "output_type": "display_data",
          "data": {
            "image/png": "[encoded data removed]",
            "text/plain": [
              "<Figure size 1440x1080 with 3 Axes>"
            ]
          },
          "metadata": {
            "tags": [],
            "needs_background": "light"
          }
        }
      ]
    },
    {
      "cell_type": "markdown",
      "metadata": {
        "id": "zp0I2qAjjGsu"
      },
      "source": [
        "\n",
        "# Normalización de datos (One-Hot Encoding)\n",
        "Transformaremos los valores categoricos (que tanto influyen a las categorias) con get_dummies.\n",
        "\n"
      ]
    },
    {
      "cell_type": "code",
      "metadata": {
        "colab": {
          "base_uri": "https://localhost:8080/",
          "height": 0
        },
        "id": "9LAYzD9tjgAX",
        "outputId": "a055090f-bddd-4dae-a9d0-897437907c3f"
      },
      "source": [
        "data_clean.head()"
      ],
      "execution_count": 53,
      "outputs": [
        {
          "output_type": "execute_result",
          "data": {
            "text/html": [
              "<div>\n",
              "<style scoped>\n",
              "    .dataframe tbody tr th:only-of-type {\n",
              "        vertical-align: middle;\n",
              "    }\n",
              "\n",
              "    .dataframe tbody tr th {\n",
              "        vertical-align: top;\n",
              "    }\n",
              "\n",
              "    .dataframe thead th {\n",
              "        text-align: right;\n",
              "    }\n",
              "</style>\n",
              "<table border=\"1\" class=\"dataframe\">\n",
              "  <thead>\n",
              "    <tr style=\"text-align: right;\">\n",
              "      <th></th>\n",
              "      <th>property_type</th>\n",
              "      <th>rooms</th>\n",
              "      <th>bedrooms</th>\n",
              "      <th>bathrooms</th>\n",
              "      <th>surface_total</th>\n",
              "      <th>surface_covered</th>\n",
              "      <th>price</th>\n",
              "    </tr>\n",
              "  </thead>\n",
              "  <tbody>\n",
              "    <tr>\n",
              "      <th>1</th>\n",
              "      <td>PH</td>\n",
              "      <td>2.0</td>\n",
              "      <td>1.0</td>\n",
              "      <td>2.0</td>\n",
              "      <td>70.0</td>\n",
              "      <td>58.0</td>\n",
              "      <td>159000.0</td>\n",
              "    </tr>\n",
              "    <tr>\n",
              "      <th>2</th>\n",
              "      <td>PH</td>\n",
              "      <td>2.0</td>\n",
              "      <td>1.0</td>\n",
              "      <td>1.0</td>\n",
              "      <td>45.0</td>\n",
              "      <td>45.0</td>\n",
              "      <td>125000.0</td>\n",
              "    </tr>\n",
              "    <tr>\n",
              "      <th>3</th>\n",
              "      <td>PH</td>\n",
              "      <td>2.0</td>\n",
              "      <td>1.0</td>\n",
              "      <td>1.0</td>\n",
              "      <td>85.0</td>\n",
              "      <td>50.0</td>\n",
              "      <td>295000.0</td>\n",
              "    </tr>\n",
              "    <tr>\n",
              "      <th>5</th>\n",
              "      <td>PH</td>\n",
              "      <td>2.0</td>\n",
              "      <td>1.0</td>\n",
              "      <td>1.0</td>\n",
              "      <td>56.0</td>\n",
              "      <td>56.0</td>\n",
              "      <td>150000.0</td>\n",
              "    </tr>\n",
              "    <tr>\n",
              "      <th>6</th>\n",
              "      <td>PH</td>\n",
              "      <td>2.0</td>\n",
              "      <td>1.0</td>\n",
              "      <td>1.0</td>\n",
              "      <td>70.0</td>\n",
              "      <td>70.0</td>\n",
              "      <td>159500.0</td>\n",
              "    </tr>\n",
              "  </tbody>\n",
              "</table>\n",
              "</div>"
            ],
            "text/plain": [
              "  property_type  rooms  bedrooms  ...  surface_total  surface_covered     price\n",
              "1            PH    2.0       1.0  ...           70.0             58.0  159000.0\n",
              "2            PH    2.0       1.0  ...           45.0             45.0  125000.0\n",
              "3            PH    2.0       1.0  ...           85.0             50.0  295000.0\n",
              "5            PH    2.0       1.0  ...           56.0             56.0  150000.0\n",
              "6            PH    2.0       1.0  ...           70.0             70.0  159500.0\n",
              "\n",
              "[5 rows x 7 columns]"
            ]
          },
          "metadata": {
            "tags": []
          },
          "execution_count": 53
        }
      ]
    },
    {
      "cell_type": "code",
      "metadata": {
        "colab": {
          "base_uri": "https://localhost:8080/",
          "height": 0
        },
        "id": "BG3ROYjfj8VR",
        "outputId": "d2ca866c-afd8-456b-98d1-06eb8133dbd6"
      },
      "source": [
        "\n",
        "#One-Hot Encoding\n",
        "#dummies_l3 = pd.get_dummies(data_clean['l3'])\n",
        "#dummies_l2 = pd.get_dummies(data_clean['l2'])\n",
        "dummies_property_type = pd.get_dummies(data_clean['property_type'])\n",
        "df_clean = pd.concat([data_clean,dummies_property_type], axis=1)\n",
        "df_clean = df_clean.drop(['property_type'], axis=1)\n",
        "df_clean"
      ],
      "execution_count": 54,
      "outputs": [
        {
          "output_type": "execute_result",
          "data": {
            "text/html": [
              "<div>\n",
              "<style scoped>\n",
              "    .dataframe tbody tr th:only-of-type {\n",
              "        vertical-align: middle;\n",
              "    }\n",
              "\n",
              "    .dataframe tbody tr th {\n",
              "        vertical-align: top;\n",
              "    }\n",
              "\n",
              "    .dataframe thead th {\n",
              "        text-align: right;\n",
              "    }\n",
              "</style>\n",
              "<table border=\"1\" class=\"dataframe\">\n",
              "  <thead>\n",
              "    <tr style=\"text-align: right;\">\n",
              "      <th></th>\n",
              "      <th>rooms</th>\n",
              "      <th>bedrooms</th>\n",
              "      <th>bathrooms</th>\n",
              "      <th>surface_total</th>\n",
              "      <th>surface_covered</th>\n",
              "      <th>price</th>\n",
              "      <th>Casa</th>\n",
              "      <th>Departamento</th>\n",
              "      <th>PH</th>\n",
              "    </tr>\n",
              "  </thead>\n",
              "  <tbody>\n",
              "    <tr>\n",
              "      <th>1</th>\n",
              "      <td>2.0</td>\n",
              "      <td>1.0</td>\n",
              "      <td>2.0</td>\n",
              "      <td>70.0</td>\n",
              "      <td>58.0</td>\n",
              "      <td>159000.0</td>\n",
              "      <td>0</td>\n",
              "      <td>0</td>\n",
              "      <td>1</td>\n",
              "    </tr>\n",
              "    <tr>\n",
              "      <th>2</th>\n",
              "      <td>2.0</td>\n",
              "      <td>1.0</td>\n",
              "      <td>1.0</td>\n",
              "      <td>45.0</td>\n",
              "      <td>45.0</td>\n",
              "      <td>125000.0</td>\n",
              "      <td>0</td>\n",
              "      <td>0</td>\n",
              "      <td>1</td>\n",
              "    </tr>\n",
              "    <tr>\n",
              "      <th>3</th>\n",
              "      <td>2.0</td>\n",
              "      <td>1.0</td>\n",
              "      <td>1.0</td>\n",
              "      <td>85.0</td>\n",
              "      <td>50.0</td>\n",
              "      <td>295000.0</td>\n",
              "      <td>0</td>\n",
              "      <td>0</td>\n",
              "      <td>1</td>\n",
              "    </tr>\n",
              "    <tr>\n",
              "      <th>5</th>\n",
              "      <td>2.0</td>\n",
              "      <td>1.0</td>\n",
              "      <td>1.0</td>\n",
              "      <td>56.0</td>\n",
              "      <td>56.0</td>\n",
              "      <td>150000.0</td>\n",
              "      <td>0</td>\n",
              "      <td>0</td>\n",
              "      <td>1</td>\n",
              "    </tr>\n",
              "    <tr>\n",
              "      <th>6</th>\n",
              "      <td>2.0</td>\n",
              "      <td>1.0</td>\n",
              "      <td>1.0</td>\n",
              "      <td>70.0</td>\n",
              "      <td>70.0</td>\n",
              "      <td>159500.0</td>\n",
              "      <td>0</td>\n",
              "      <td>0</td>\n",
              "      <td>1</td>\n",
              "    </tr>\n",
              "    <tr>\n",
              "      <th>...</th>\n",
              "      <td>...</td>\n",
              "      <td>...</td>\n",
              "      <td>...</td>\n",
              "      <td>...</td>\n",
              "      <td>...</td>\n",
              "      <td>...</td>\n",
              "      <td>...</td>\n",
              "      <td>...</td>\n",
              "      <td>...</td>\n",
              "    </tr>\n",
              "    <tr>\n",
              "      <th>146544</th>\n",
              "      <td>3.0</td>\n",
              "      <td>2.0</td>\n",
              "      <td>2.0</td>\n",
              "      <td>120.0</td>\n",
              "      <td>82.0</td>\n",
              "      <td>430000.0</td>\n",
              "      <td>0</td>\n",
              "      <td>1</td>\n",
              "      <td>0</td>\n",
              "    </tr>\n",
              "    <tr>\n",
              "      <th>146545</th>\n",
              "      <td>3.0</td>\n",
              "      <td>2.0</td>\n",
              "      <td>2.0</td>\n",
              "      <td>88.0</td>\n",
              "      <td>82.0</td>\n",
              "      <td>399000.0</td>\n",
              "      <td>0</td>\n",
              "      <td>1</td>\n",
              "      <td>0</td>\n",
              "    </tr>\n",
              "    <tr>\n",
              "      <th>146549</th>\n",
              "      <td>3.0</td>\n",
              "      <td>2.0</td>\n",
              "      <td>1.0</td>\n",
              "      <td>84.0</td>\n",
              "      <td>84.0</td>\n",
              "      <td>178000.0</td>\n",
              "      <td>0</td>\n",
              "      <td>0</td>\n",
              "      <td>1</td>\n",
              "    </tr>\n",
              "    <tr>\n",
              "      <th>146550</th>\n",
              "      <td>5.0</td>\n",
              "      <td>2.0</td>\n",
              "      <td>2.0</td>\n",
              "      <td>114.0</td>\n",
              "      <td>95.0</td>\n",
              "      <td>298000.0</td>\n",
              "      <td>0</td>\n",
              "      <td>0</td>\n",
              "      <td>1</td>\n",
              "    </tr>\n",
              "    <tr>\n",
              "      <th>146557</th>\n",
              "      <td>3.0</td>\n",
              "      <td>2.0</td>\n",
              "      <td>2.0</td>\n",
              "      <td>145.0</td>\n",
              "      <td>145.0</td>\n",
              "      <td>420000.0</td>\n",
              "      <td>0</td>\n",
              "      <td>1</td>\n",
              "      <td>0</td>\n",
              "    </tr>\n",
              "  </tbody>\n",
              "</table>\n",
              "<p>67375 rows × 9 columns</p>\n",
              "</div>"
            ],
            "text/plain": [
              "        rooms  bedrooms  bathrooms  ...  Casa  Departamento  PH\n",
              "1         2.0       1.0        2.0  ...     0             0   1\n",
              "2         2.0       1.0        1.0  ...     0             0   1\n",
              "3         2.0       1.0        1.0  ...     0             0   1\n",
              "5         2.0       1.0        1.0  ...     0             0   1\n",
              "6         2.0       1.0        1.0  ...     0             0   1\n",
              "...       ...       ...        ...  ...   ...           ...  ..\n",
              "146544    3.0       2.0        2.0  ...     0             1   0\n",
              "146545    3.0       2.0        2.0  ...     0             1   0\n",
              "146549    3.0       2.0        1.0  ...     0             0   1\n",
              "146550    5.0       2.0        2.0  ...     0             0   1\n",
              "146557    3.0       2.0        2.0  ...     0             1   0\n",
              "\n",
              "[67375 rows x 9 columns]"
            ]
          },
          "metadata": {
            "tags": []
          },
          "execution_count": 54
        }
      ]
    },
    {
      "cell_type": "markdown",
      "metadata": {
        "id": "rFqD4csVkF9w"
      },
      "source": [
        "# Escalado de datos\n",
        "Es necesario escalar los datos ya que las variables bathrooms, bedrooms y rooms tienen las mismas unidades, valores enteros chicos, mientras que las variables surface_total y surface_covered estan dadas en 𝑚2. Por lo que es buena idea hacer una estandarizacion de los datos para que esta diferencia en unidades no afecte al modelo.\n",
        "\n",
        "Cada variable tiene que ser analizada de forma independiente para decidir que tipo de escalado de datos utilizar. Veamos la distribucion de las variables para luego tomar las decisiones.\n",
        "\n",
        "Primero escalaré las variables discretas:"
      ]
    },
    {
      "cell_type": "code",
      "metadata": {
        "id": "_VSOUYSCj4ZZ"
      },
      "source": [
        "\n",
        "#Escalado\n",
        "from sklearn.preprocessing import StandardScaler\n",
        "data_scaled = df_clean.copy()\n",
        "\n",
        "columns_to_scale = ['rooms', 'bedrooms', 'bathrooms']\n",
        "features = data_scaled[columns_to_scale]\n",
        "\n",
        "scaler = StandardScaler().fit(features.values)\n",
        "feature = scaler.transform(features.values)\n",
        "data_scaled[columns_to_scale] = feature"
      ],
      "execution_count": 55,
      "outputs": []
    },
    {
      "cell_type": "markdown",
      "metadata": {
        "id": "dfBOTwPNkeow"
      },
      "source": [
        "por otro lado escalo las variables de superficie"
      ]
    },
    {
      "cell_type": "code",
      "metadata": {
        "colab": {
          "base_uri": "https://localhost:8080/",
          "height": 0
        },
        "id": "Z6mJlXkPka51",
        "outputId": "be63ff9a-7665-49e3-ea97-42cad4e914b8"
      },
      "source": [
        "scaler_df = data_scaled.copy()\n",
        "columns_to_scale  = ['surface_total', 'surface_covered']\n",
        "\n",
        "scaler = StandardScaler()\n",
        "scaled = scaler.fit_transform(scaler_df[columns_to_scale])\n",
        "\n",
        "columns_left = scaler_df.copy()\n",
        "columns_left = columns_left.drop(columns = columns_to_scale)\n",
        "\n",
        "resulted_values = pd.DataFrame(scaled, index=scaler_df.index, columns=scaler_df[columns_to_scale].columns)\n",
        "frames = [resulted_values,columns_left]\n",
        "data_scaled = pd.concat(frames,axis=1)\n",
        "\n",
        "data_scaled.head()"
      ],
      "execution_count": 56,
      "outputs": [
        {
          "output_type": "execute_result",
          "data": {
            "text/html": [
              "<div>\n",
              "<style scoped>\n",
              "    .dataframe tbody tr th:only-of-type {\n",
              "        vertical-align: middle;\n",
              "    }\n",
              "\n",
              "    .dataframe tbody tr th {\n",
              "        vertical-align: top;\n",
              "    }\n",
              "\n",
              "    .dataframe thead th {\n",
              "        text-align: right;\n",
              "    }\n",
              "</style>\n",
              "<table border=\"1\" class=\"dataframe\">\n",
              "  <thead>\n",
              "    <tr style=\"text-align: right;\">\n",
              "      <th></th>\n",
              "      <th>surface_total</th>\n",
              "      <th>surface_covered</th>\n",
              "      <th>rooms</th>\n",
              "      <th>bedrooms</th>\n",
              "      <th>bathrooms</th>\n",
              "      <th>price</th>\n",
              "      <th>Casa</th>\n",
              "      <th>Departamento</th>\n",
              "      <th>PH</th>\n",
              "    </tr>\n",
              "  </thead>\n",
              "  <tbody>\n",
              "    <tr>\n",
              "      <th>1</th>\n",
              "      <td>-0.019498</td>\n",
              "      <td>-0.153367</td>\n",
              "      <td>-0.705593</td>\n",
              "      <td>-0.944474</td>\n",
              "      <td>1.272711</td>\n",
              "      <td>159000.0</td>\n",
              "      <td>0</td>\n",
              "      <td>0</td>\n",
              "      <td>1</td>\n",
              "    </tr>\n",
              "    <tr>\n",
              "      <th>2</th>\n",
              "      <td>-0.781424</td>\n",
              "      <td>-0.636408</td>\n",
              "      <td>-0.705593</td>\n",
              "      <td>-0.944474</td>\n",
              "      <td>-0.579517</td>\n",
              "      <td>125000.0</td>\n",
              "      <td>0</td>\n",
              "      <td>0</td>\n",
              "      <td>1</td>\n",
              "    </tr>\n",
              "    <tr>\n",
              "      <th>3</th>\n",
              "      <td>0.437657</td>\n",
              "      <td>-0.450623</td>\n",
              "      <td>-0.705593</td>\n",
              "      <td>-0.944474</td>\n",
              "      <td>-0.579517</td>\n",
              "      <td>295000.0</td>\n",
              "      <td>0</td>\n",
              "      <td>0</td>\n",
              "      <td>1</td>\n",
              "    </tr>\n",
              "    <tr>\n",
              "      <th>5</th>\n",
              "      <td>-0.446176</td>\n",
              "      <td>-0.227681</td>\n",
              "      <td>-0.705593</td>\n",
              "      <td>-0.944474</td>\n",
              "      <td>-0.579517</td>\n",
              "      <td>150000.0</td>\n",
              "      <td>0</td>\n",
              "      <td>0</td>\n",
              "      <td>1</td>\n",
              "    </tr>\n",
              "    <tr>\n",
              "      <th>6</th>\n",
              "      <td>-0.019498</td>\n",
              "      <td>0.292518</td>\n",
              "      <td>-0.705593</td>\n",
              "      <td>-0.944474</td>\n",
              "      <td>-0.579517</td>\n",
              "      <td>159500.0</td>\n",
              "      <td>0</td>\n",
              "      <td>0</td>\n",
              "      <td>1</td>\n",
              "    </tr>\n",
              "  </tbody>\n",
              "</table>\n",
              "</div>"
            ],
            "text/plain": [
              "   surface_total  surface_covered     rooms  ...  Casa  Departamento  PH\n",
              "1      -0.019498        -0.153367 -0.705593  ...     0             0   1\n",
              "2      -0.781424        -0.636408 -0.705593  ...     0             0   1\n",
              "3       0.437657        -0.450623 -0.705593  ...     0             0   1\n",
              "5      -0.446176        -0.227681 -0.705593  ...     0             0   1\n",
              "6      -0.019498         0.292518 -0.705593  ...     0             0   1\n",
              "\n",
              "[5 rows x 9 columns]"
            ]
          },
          "metadata": {
            "tags": []
          },
          "execution_count": 56
        }
      ]
    },
    {
      "cell_type": "markdown",
      "metadata": {
        "id": "Hq-4NtnTkzJd"
      },
      "source": [
        "\n",
        "# SVD/PCA - Generación de nuevas variabLes predictoras/reducción de dimensionalidad\n",
        "La idea de PCA es reducir o proyectar nuestra información a un espacio de dimensión menor, pero también puede servir para construir un indicador. Este será el ejemplo central de esta entrada.\n",
        "\n",
        "Una observación fundamental es que PCA es efectivo cuando la correlación entre variables es alta, es decir; la linealidad entre nuestras variables no es cero. Nuestro dataset es compatible con esta situación, por la cual aplicaremos:"
      ]
    },
    {
      "cell_type": "code",
      "metadata": {
        "id": "Mp-eeN4Mk1JT"
      },
      "source": [
        "\n",
        "from sklearn.decomposition import PCA"
      ],
      "execution_count": 57,
      "outputs": []
    },
    {
      "cell_type": "code",
      "metadata": {
        "id": "r_tNe9C7lFRX"
      },
      "source": [
        "X2 = data_scaled.drop([\"price\"], axis=1)\n",
        "y = data_scaled.price"
      ],
      "execution_count": 58,
      "outputs": []
    },
    {
      "cell_type": "code",
      "metadata": {
        "colab": {
          "base_uri": "https://localhost:8080/"
        },
        "id": "pfc_4foElHjN",
        "outputId": "8087b20d-8526-4f72-a3ce-fb2d36102136"
      },
      "source": [
        "pca = PCA(n_components=0.95)\n",
        "X_pca = pca.fit_transform(X2)\n",
        "\n",
        "X_pca"
      ],
      "execution_count": 59,
      "outputs": [
        {
          "output_type": "execute_result",
          "data": {
            "text/plain": [
              "array([[-0.33721749,  1.52883972,  0.520574  ,  1.35217836],\n",
              "       [-1.57135558, -0.10030182,  0.37614769,  1.24015844],\n",
              "       [-0.91974381, -0.10799927,  1.192685  ,  1.14770988],\n",
              "       ...,\n",
              "       [ 0.77883959, -0.88270501,  0.6823905 ,  0.93231676],\n",
              "       [ 3.04688419,  0.03839233,  0.0512236 ,  1.16319451],\n",
              "       [ 3.30220543,  0.88186151,  1.9263953 , -0.78811062]])"
            ]
          },
          "metadata": {
            "tags": []
          },
          "execution_count": 59
        }
      ]
    },
    {
      "cell_type": "markdown",
      "metadata": {
        "id": "UJyKQYNQlOVF"
      },
      "source": [
        "# ML de P1\n",
        "Vuelve a entrenar el modelo implementado en la Entrega 01 - en particular, el árbol de decisión - y evalúa su desempeño a partir del dataset obtenido luego de transformar los datos. Sea cual sea la respuesta, intenta explicar a qué se debe.\n",
        "\n",
        "Rescato el modelo entrenado en P1 pero con el dataset de este proyecto para comparar rendimiento.\n",
        "\n",
        "Rendimiento Último y mejor modelo de P1 - Arbol de Decisión1 (con variables dummies agregadas en property_type):\n",
        "\n",
        "max_depth = 17\n",
        "RMSE ÁRBOL 1\n",
        "\n",
        "La raíz del error cuadrático medio en Train es de: 70095.58150028698\n",
        "La raíz del error cuadrático medio en Test es de: 150465.1206172948\n",
        "Realizaré el mismo procedimiento pero con éste nuevo dataset df_clean. El objetivo de este proyecto es poder trabajar en el ajuste de modelos y su posterior evaluación."
      ]
    },
    {
      "cell_type": "code",
      "metadata": {
        "colab": {
          "base_uri": "https://localhost:8080/"
        },
        "id": "oWM0IO2_lM95",
        "outputId": "d13a0773-f426-4b13-9616-9f0d77db114b"
      },
      "source": [
        "from sklearn.model_selection import train_test_split \n",
        "from sklearn.tree import DecisionTreeRegressor\n",
        "from sklearn.metrics import mean_squared_error\n",
        "\n",
        "X = df_clean.drop(['price'], axis=1)\n",
        "y = df_clean['price']\n",
        "\n",
        "X_train, X_test, y_train, y_test = train_test_split(X_pca, y, test_size=0.30, random_state=42)\n",
        "print(X_train.shape, y_train.shape, X_test.shape, y_test.shape)"
      ],
      "execution_count": 60,
      "outputs": [
        {
          "output_type": "stream",
          "text": [
            "(47162, 4) (47162,) (20213, 4) (20213,)\n"
          ],
          "name": "stdout"
        }
      ]
    },
    {
      "cell_type": "code",
      "metadata": {
        "colab": {
          "base_uri": "https://localhost:8080/"
        },
        "id": "zTskNJOm5aRe",
        "outputId": "c295ebba-46ea-42d6-eaed-1b7e6a835e2a"
      },
      "source": [
        "df_clean.shape"
      ],
      "execution_count": 61,
      "outputs": [
        {
          "output_type": "execute_result",
          "data": {
            "text/plain": [
              "(67375, 9)"
            ]
          },
          "metadata": {
            "tags": []
          },
          "execution_count": 61
        }
      ]
    },
    {
      "cell_type": "code",
      "metadata": {
        "colab": {
          "base_uri": "https://localhost:8080/"
        },
        "id": "euiGViwBl-Kn",
        "outputId": "fe296880-5e7c-44f7-fabf-8cb14f4c15dc"
      },
      "source": [
        "\n",
        "print('Proporcion de etiquetas positiva en los datos de Train: ', y_train.sum()/y_train.size)\n",
        "print('Proporcion de etiquetas positiva en los datos de Test: ', y_test.sum()/y_test.size)"
      ],
      "execution_count": 62,
      "outputs": [
        {
          "output_type": "stream",
          "text": [
            "Proporcion de etiquetas positiva en los datos de Train:  178461.5645222849\n",
            "Proporcion de etiquetas positiva en los datos de Test:  179819.01657349232\n"
          ],
          "name": "stdout"
        }
      ]
    },
    {
      "cell_type": "markdown",
      "metadata": {
        "id": "qm-2aKt3mZjm"
      },
      "source": [
        "Ahora, al igual que en Proyecto 1 buscamos el mejor parametro y entrenamos modelo con menos error."
      ]
    },
    {
      "cell_type": "code",
      "metadata": {
        "id": "nBLYda68maWw"
      },
      "source": [
        "lista_rmse_train_tree = []\n",
        "lista_rmse_test_tree = []\n",
        "rmse_train = 0\n",
        "rmse_test = 0\n",
        "max_depths = [1,5,6,7,8,9,10,10.5,11,12,13,14,15,16,17,18,19,20,21,22,24,25,30,40,45,50,55]\n",
        "\n",
        "for i in max_depths:\n",
        "    tree_reg = DecisionTreeRegressor(max_depth = i)\n",
        "    tree_reg.fit(X_train,y_train)\n",
        "    \n",
        "    y_train_pred_tree = tree_reg.predict(X_train)\n",
        "    rmse_train = np.sqrt(mean_squared_error(y_train, y_train_pred_tree))\n",
        "\n",
        "    y_test_pred_tree = tree_reg.predict(X_test)\n",
        "    rmse_test = np.sqrt(mean_squared_error(y_test, y_test_pred_tree))\n",
        "    \n",
        "    lista_rmse_train_tree.append(rmse_train)\n",
        "    lista_rmse_test_tree.append(rmse_test)"
      ],
      "execution_count": 63,
      "outputs": []
    },
    {
      "cell_type": "code",
      "metadata": {
        "colab": {
          "base_uri": "https://localhost:8080/",
          "height": 381
        },
        "id": "AlzehzEamdrf",
        "outputId": "c4b46307-7256-4646-fa83-20f98ac3b3e0"
      },
      "source": [
        "\n",
        "min_test_tree = np.amin(lista_rmse_test_tree)\n",
        "lista_rmse_test_tree_op = lista_rmse_test_tree.index(min(lista_rmse_test_tree))\n",
        "max_depths_op = max_depths[lista_rmse_test_tree_op]\n",
        "print('El mínimo de RMSE en test es ', min_test_tree, ' en ', max_depths_op, ' profundidad del árbol.')\n",
        "\n",
        "plt.figure(figsize=(15,5))\n",
        "\n",
        "plt.plot(max_depths, lista_rmse_train_tree, 'o-', label = 'RMSE train')\n",
        "plt.plot(max_depths, lista_rmse_test_tree, 'o-', label = 'RMSE test')\n",
        "plt.xlabel('Profundidad del árbol [max_depths]', size = 15)\n",
        "plt.ylabel('RMSE', size =15)\n",
        "plt.title('Rendimiento Árbol de Decisión', size = 20)\n",
        "plt.scatter(max_depths_op, min_test_tree, s=300, marker = '*', \n",
        "         label = 'RMSE = {} \\nmax_depth = {} '.format(round(min_test_tree),max_depths_op), color = 'red')\n",
        "plt.legend(loc = 'upper right', fontsize = 15)\n",
        "plt.savefig('Arbol1.png')\n",
        "\n",
        "plt.show()"
      ],
      "execution_count": 64,
      "outputs": [
        {
          "output_type": "stream",
          "text": [
            "El mínimo de RMSE en test es  44130.61856354476  en  14  profundidad del árbol.\n"
          ],
          "name": "stdout"
        },
        {
          "output_type": "display_data",
          "data": {
            "image/png": "[encoded data removed]",
            "text/plain": [
              "<Figure size 1080x360 with 1 Axes>"
            ]
          },
          "metadata": {
            "tags": [],
            "needs_background": "light"
          }
        }
      ]
    },
    {
      "cell_type": "code",
      "metadata": {
        "colab": {
          "base_uri": "https://localhost:8080/"
        },
        "id": "mPkuTFSjoOSC",
        "outputId": "4f8a0dbc-4aeb-4838-c8d1-e53c7c807f48"
      },
      "source": [
        "tree_regressor = DecisionTreeRegressor(max_depth =17)\n",
        "tree_regressor.fit(X_train, y_train)\n",
        "y_train_pred_tree = tree_regressor.predict(X_train)\n",
        "y_test_pred_tree = tree_regressor.predict(X_test)\n",
        "\n",
        "rmse_train_tree = np.sqrt(mean_squared_error(y_train, y_train_pred_tree))\n",
        "rmse_test_tree = np.sqrt(mean_squared_error(y_test, y_test_pred_tree))\n",
        "print(f'La raíz del error cuadrático medio en TRAIN es de ${rmse_train_tree}')\n",
        "print(f'La raíz del error cuadrático medio en TEST es de ${rmse_test_tree}')\n",
        "#Bechmarck para parte B"
      ],
      "execution_count": 65,
      "outputs": [
        {
          "output_type": "stream",
          "text": [
            "La raíz del error cuadrático medio en TRAIN es de $34532.782944198014\n",
            "La raíz del error cuadrático medio en TEST es de $44371.50762263616\n"
          ],
          "name": "stdout"
        }
      ]
    },
    {
      "cell_type": "code",
      "metadata": {
        "colab": {
          "base_uri": "https://localhost:8080/"
        },
        "id": "9hY_TuC7oxk9",
        "outputId": "d8095db7-5175-4d44-d7da-163c60f7ea7c"
      },
      "source": [
        "\n",
        "dism_train =(((rmse_train_tree-70095.581)/70095.581)*100) #formula de crecimiento\n",
        "dism_test = (((rmse_test_tree-150465.120)/150465.120)*100)\n",
        "print('Diferencia del RMSE entre P1 y P2 de train en un %', dism_train)\n",
        "print('Diferencia del RMSE entre P1 y P2 de test en un %', dism_test)"
      ],
      "execution_count": 66,
      "outputs": [
        {
          "output_type": "stream",
          "text": [
            "Diferencia del RMSE entre P1 y P2 de train en un % -50.73472185900276\n",
            "Diferencia del RMSE entre P1 y P2 de test en un % -70.51043615780445\n"
          ],
          "name": "stdout"
        }
      ]
    },
    {
      "cell_type": "markdown",
      "metadata": {
        "id": "w6rGQoFRcVtu"
      },
      "source": [
        "en comparacion con el tp1 el error en train disminuyo en 51% y el de test en 70%, utilizando las tecnicas avanzadas de pre procesamiento, con el mismo dataset sugerido del tp1"
      ]
    },
    {
      "cell_type": "markdown",
      "metadata": {
        "id": "mFaC4pIlpkzd"
      },
      "source": [
        "\n",
        "# PARTE B - Modelos Avanzados\n",
        "Elige dos de los modelos avanzados vistos (en el caso de regresión, considera una regresión lineal con atributos polinómicos y regularización). Entrénalos y evalúalos con sus argumentos por defecto. No te olvides de hacer un train/test split y usar Validación Cruzada.\n",
        "Optimiza sus hiperparámetros mediante Validación Cruzada y Grid Search o Random Search.\n",
        "Compara el desempeño de los nuevos modelos entre sí y con el modelo de la Parte A. ¿Cuál elegirías? Justifica.\n",
        "Modelos Avanzados para mejorar nuestros análisis y modelos de Machine Learning con el Preprocesamiento de Datos; me planteo un objetivo personal: mejorar el rendimiento y disminuir RMSE de DecisionTreeRegressor utilizando como parametro el modelo anterior, es decir mi BENCHMARK DecisionTreeRegressor\n",
        "\n",
        "La raíz del error cuadrático medio en TRAIN es de $33682.90090436593\n",
        "\n",
        "\n",
        "La raíz del error cuadrático medio en TEST es de $44156.42190956156"
      ]
    },
    {
      "cell_type": "code",
      "metadata": {
        "id": "IvGK54qypmxd"
      },
      "source": [
        "from sklearn.ensemble import BaggingRegressor\n",
        "from xgboost.sklearn import XGBRegressor\n",
        "\n",
        "import xgboost as xgb\n",
        "import scipy as sp\n",
        "\n",
        "from sklearn.ensemble import RandomForestRegressor\n",
        "from sklearn.tree import DecisionTreeRegressor\n",
        "from sklearn.neighbors import KNeighborsRegressor\n",
        "\n",
        "from sklearn.ensemble import AdaBoostRegressor\n",
        "from sklearn.ensemble import BaggingRegressor\n",
        "from sklearn.linear_model import LinearRegression\n",
        "\n",
        "from sklearn.model_selection import cross_val_score\n",
        "from sklearn.model_selection import cross_validate\n",
        "from sklearn.model_selection import RandomizedSearchCV\n",
        "from sklearn.model_selection import GridSearchCV\n",
        "from xgboost.sklearn import XGBRegressor\n",
        "\n",
        "\n",
        "from sklearn.metrics import classification_report\n",
        "from sklearn.model_selection import train_test_split\n",
        "from sklearn.metrics import confusion_matrix, accuracy_score"
      ],
      "execution_count": 67,
      "outputs": []
    },
    {
      "cell_type": "code",
      "metadata": {
        "id": "D8n-t2xmN86R"
      },
      "source": [
        "#Decido explorar estos modelos\n",
        "\n",
        "tree = DecisionTreeRegressor()\n",
        "bagging = BaggingRegressor()\n",
        "forest = RandomForestRegressor()\n",
        "ada = AdaBoostRegressor(DecisionTreeRegressor(max_depth=10), n_estimators=250)\n",
        "linear_model = LinearRegression()"
      ],
      "execution_count": 68,
      "outputs": []
    },
    {
      "cell_type": "code",
      "metadata": {
        "id": "bJF3RwlHOBF0"
      },
      "source": [
        "param_tree = {\"criterion\": [\"mse\", \"friedman_mse\"],\n",
        "             \"max_depth\": sp.stats.randint(2, 20),\n",
        "             \"min_samples_split\": sp.stats.randint(2, 20)}"
      ],
      "execution_count": 69,
      "outputs": []
    },
    {
      "cell_type": "code",
      "metadata": {
        "colab": {
          "base_uri": "https://localhost:8080/"
        },
        "id": "EsPGWkuROEFb",
        "outputId": "ba283b67-2d0b-4cbf-8c90-5396450c1b98"
      },
      "source": [
        "tree_opt = RandomizedSearchCV(tree, param_tree, \n",
        "                              n_iter = 100, \n",
        "                              random_state = 42, \n",
        "                              cv = 5, n_jobs = -1)\n",
        "\n",
        "tree_opt.fit(X_train, y_train)"
      ],
      "execution_count": 70,
      "outputs": [
        {
          "output_type": "execute_result",
          "data": {
            "text/plain": [
              "RandomizedSearchCV(cv=5, error_score=nan,\n",
              "                   estimator=DecisionTreeRegressor(ccp_alpha=0.0,\n",
              "                                                   criterion='mse',\n",
              "                                                   max_depth=None,\n",
              "                                                   max_features=None,\n",
              "                                                   max_leaf_nodes=None,\n",
              "                                                   min_impurity_decrease=0.0,\n",
              "                                                   min_impurity_split=None,\n",
              "                                                   min_samples_leaf=1,\n",
              "                                                   min_samples_split=2,\n",
              "                                                   min_weight_fraction_leaf=0.0,\n",
              "                                                   presort='deprecated',\n",
              "                                                   random_state=None,\n",
              "                                                   splitter='best'),\n",
              "                   iid='deprecated', n_iter=100, n_jobs=-1,\n",
              "                   param_distributions={'criterion': ['mse', 'friedman_mse'],\n",
              "                                        'max_depth': <scipy.stats._distn_infrastructure.rv_frozen object at 0x7fee998dbd50>,\n",
              "                                        'min_samples_split': <scipy.stats._distn_infrastructure.rv_frozen object at 0x7fee99bd7350>},\n",
              "                   pre_dispatch='2*n_jobs', random_state=42, refit=True,\n",
              "                   return_train_score=False, scoring=None, verbose=0)"
            ]
          },
          "metadata": {
            "tags": []
          },
          "execution_count": 70
        }
      ]
    },
    {
      "cell_type": "code",
      "metadata": {
        "colab": {
          "base_uri": "https://localhost:8080/"
        },
        "id": "HBEWRbNoOYjg",
        "outputId": "39cbf22b-191d-43db-c661-c6bf7a6a3647"
      },
      "source": [
        "print('DecisionTreeRegressor optimizado con RandomSearchCV')\n",
        "\n",
        "y_train_predCV = tree_opt.predict(X_train)\n",
        "y_test_predCV = tree_opt.predict(X_test)\n",
        "\n",
        "rmse_train_treeRSCV = np.sqrt(mean_squared_error(y_train, y_train_predCV))\n",
        "rmse_test_treeRDCV = np.sqrt(mean_squared_error(y_test, y_test_predCV))\n",
        "print(f'La raíz del error cuadrático medio en TRAIN es de ${rmse_train_treeRSCV}')\n",
        "print(f'La raíz del error cuadrático medio en TEST es de ${rmse_test_treeRDCV}')"
      ],
      "execution_count": 71,
      "outputs": [
        {
          "output_type": "stream",
          "text": [
            "DecisionTreeRegressor optimizado con RandomSearchCV\n",
            "La raíz del error cuadrático medio en TRAIN es de $35560.452088483646\n",
            "La raíz del error cuadrático medio en TEST es de $44235.55009960354\n"
          ],
          "name": "stdout"
        }
      ]
    },
    {
      "cell_type": "markdown",
      "metadata": {
        "id": "Vq-1_3zjOudi"
      },
      "source": [
        "AUMENTA UN POCO EL ERROR DE TRAIN, PERO DISMINUYE TAMBIEN EL DE TEST"
      ]
    },
    {
      "cell_type": "markdown",
      "metadata": {
        "id": "DPztWSugO5WI"
      },
      "source": [
        "**BAGGING CON DECISION TREE REGRESSOR**"
      ]
    },
    {
      "cell_type": "code",
      "metadata": {
        "id": "7UKuMSltOoRq"
      },
      "source": [
        "bagging = BaggingRegressor(base_estimator=DecisionTreeRegressor(),\n",
        "                        bootstrap = True,\n",
        "                        bootstrap_features= False,\n",
        "                        n_estimators = 500,\n",
        "                        n_jobs = -1)"
      ],
      "execution_count": 72,
      "outputs": []
    },
    {
      "cell_type": "code",
      "metadata": {
        "colab": {
          "base_uri": "https://localhost:8080/"
        },
        "id": "Y7jNccjMPBDO",
        "outputId": "7ebba8a5-c3aa-441b-8964-f7579ee166e5"
      },
      "source": [
        "bagging.fit(X_train, y_train)"
      ],
      "execution_count": 73,
      "outputs": [
        {
          "output_type": "execute_result",
          "data": {
            "text/plain": [
              "BaggingRegressor(base_estimator=DecisionTreeRegressor(ccp_alpha=0.0,\n",
              "                                                      criterion='mse',\n",
              "                                                      max_depth=None,\n",
              "                                                      max_features=None,\n",
              "                                                      max_leaf_nodes=None,\n",
              "                                                      min_impurity_decrease=0.0,\n",
              "                                                      min_impurity_split=None,\n",
              "                                                      min_samples_leaf=1,\n",
              "                                                      min_samples_split=2,\n",
              "                                                      min_weight_fraction_leaf=0.0,\n",
              "                                                      presort='deprecated',\n",
              "                                                      random_state=None,\n",
              "                                                      splitter='best'),\n",
              "                 bootstrap=True, bootstrap_features=False, max_features=1.0,\n",
              "                 max_samples=1.0, n_estimators=500, n_jobs=-1, oob_score=False,\n",
              "                 random_state=None, verbose=0, warm_start=False)"
            ]
          },
          "metadata": {
            "tags": []
          },
          "execution_count": 73
        }
      ]
    },
    {
      "cell_type": "code",
      "metadata": {
        "colab": {
          "base_uri": "https://localhost:8080/"
        },
        "id": "6YgtjTjJPYfn",
        "outputId": "fd22caf0-1abc-4c62-be26-5872de568c6d"
      },
      "source": [
        "\n",
        "print('BaggingRegressor con DecisionTreeRegressor')\n",
        "\n",
        "y_train_predBG = bagging.predict(X_train)\n",
        "y_test_predBG = bagging.predict(X_test)\n",
        "\n",
        "rmse_train_treeBG = np.sqrt(mean_squared_error(y_train, y_train_predCV))\n",
        "rmse_test_treeBG = np.sqrt(mean_squared_error(y_test, y_test_predBG))\n",
        "print(f'La raíz del error cuadrático medio en TRAIN es de ${rmse_train_treeBG}')\n",
        "print(f'La raíz del error cuadrático medio en TRAIN es de ${rmse_test_treeBG}')"
      ],
      "execution_count": 74,
      "outputs": [
        {
          "output_type": "stream",
          "text": [
            "BaggingRegressor con DecisionTreeRegressor\n"
          ],
          "name": "stdout"
        },
        {
          "output_type": "stream",
          "text": [
            "/usr/local/lib/python3.7/dist-packages/joblib/externals/loky/process_executor.py:691: UserWarning: A worker stopped while some jobs were given to the executor. This can be caused by a too short worker timeout or by a memory leak.\n",
            "  \"timeout or by a memory leak.\", UserWarning\n"
          ],
          "name": "stderr"
        },
        {
          "output_type": "stream",
          "text": [
            "La raíz del error cuadrático medio en TRAIN es de $35560.452088483646\n",
            "La raíz del error cuadrático medio en TRAIN es de $40900.54145960815\n"
          ],
          "name": "stdout"
        }
      ]
    },
    {
      "cell_type": "markdown",
      "metadata": {
        "id": "_SIIvHCEPk-W"
      },
      "source": [
        "AUMENTA UN POCO EL ERROR DE TRAIN, NO OBSTANTE DISMINUYE EN MAYOR PROPORCION QUE EL ANTERIOR MODELO"
      ]
    },
    {
      "cell_type": "markdown",
      "metadata": {
        "id": "klpQz6yePvOs"
      },
      "source": [
        "**Random Forest**"
      ]
    },
    {
      "cell_type": "code",
      "metadata": {
        "id": "bTQ7Nd03PuiC"
      },
      "source": [
        "\n",
        "forest = RandomForestRegressor(n_estimators=1000, \n",
        "                             max_features=\"sqrt\", \n",
        "                             n_jobs=-1, \n",
        "                             oob_score = False, \n",
        "                             random_state = 42)"
      ],
      "execution_count": 75,
      "outputs": []
    },
    {
      "cell_type": "code",
      "metadata": {
        "colab": {
          "base_uri": "https://localhost:8080/"
        },
        "id": "_DhkHivrP1sP",
        "outputId": "dfdae56c-e021-4517-8c97-264eb4572a7d"
      },
      "source": [
        "forest.fit(X_train, y_train)"
      ],
      "execution_count": 76,
      "outputs": [
        {
          "output_type": "execute_result",
          "data": {
            "text/plain": [
              "RandomForestRegressor(bootstrap=True, ccp_alpha=0.0, criterion='mse',\n",
              "                      max_depth=None, max_features='sqrt', max_leaf_nodes=None,\n",
              "                      max_samples=None, min_impurity_decrease=0.0,\n",
              "                      min_impurity_split=None, min_samples_leaf=1,\n",
              "                      min_samples_split=2, min_weight_fraction_leaf=0.0,\n",
              "                      n_estimators=1000, n_jobs=-1, oob_score=False,\n",
              "                      random_state=42, verbose=0, warm_start=False)"
            ]
          },
          "metadata": {
            "tags": []
          },
          "execution_count": 76
        }
      ]
    },
    {
      "cell_type": "code",
      "metadata": {
        "colab": {
          "base_uri": "https://localhost:8080/"
        },
        "id": "RLniFD8vP3tq",
        "outputId": "e3a5b037-5f4e-4e8e-ffc5-ec8812bdf1d4"
      },
      "source": [
        "print('RandomForest')\n",
        "\n",
        "y_train_forest = forest.predict(X_train)\n",
        "y_test_forest = forest.predict(X_test)\n",
        "\n",
        "rmse_train_forest = np.sqrt(mean_squared_error(y_train, y_train_forest))\n",
        "rmse_test_forest = np.sqrt(mean_squared_error(y_test, y_test_forest))\n",
        "print(f'La raíz del error cuadrático medio en TRAIN es de ${rmse_train_forest}')\n",
        "print(f'La raíz del error cuadrático medio en TEST es de ${rmse_test_forest}') #el mejor!"
      ],
      "execution_count": 77,
      "outputs": [
        {
          "output_type": "stream",
          "text": [
            "RandomForest\n",
            "La raíz del error cuadrático medio en TRAIN es de $31785.56214316028\n",
            "La raíz del error cuadrático medio en TEST es de $40863.3819337601\n"
          ],
          "name": "stdout"
        }
      ]
    },
    {
      "cell_type": "markdown",
      "metadata": {
        "id": "0CFsOktNQTUR"
      },
      "source": [
        "el mejor modelo hasta el momento, incluso en Train"
      ]
    },
    {
      "cell_type": "markdown",
      "metadata": {
        "id": "DlxIXgn-QaUx"
      },
      "source": [
        "**Random Forest Optimizado con Random Search**"
      ]
    },
    {
      "cell_type": "code",
      "metadata": {
        "id": "250TLTCLQXOD"
      },
      "source": [
        "random1 = {'bootstrap': [True, False],\n",
        "               'max_depth': [10, 20, 30, 40, 50, 60, 70, 80, 90, 100, 110, None],\n",
        "               'max_features': ['auto', 'sqrt'],\n",
        "               'min_samples_leaf': [1, 2, 4],\n",
        "               'min_samples_split': [2, 5, 10],\n",
        "               'n_estimators': [130, 180, 230]}\n",
        "\n",
        "rf_random = RandomizedSearchCV(RandomForestRegressor(), \n",
        "       param_distributions = random1, \n",
        "       n_iter = 10, \n",
        "       cv = 3, \n",
        "       n_jobs = -1)"
      ],
      "execution_count": 78,
      "outputs": []
    },
    {
      "cell_type": "code",
      "metadata": {
        "colab": {
          "base_uri": "https://localhost:8080/"
        },
        "id": "o39Y_K1_QhT3",
        "outputId": "b5a93d4d-30e5-4ba7-99f0-3aac4fc98a3d"
      },
      "source": [
        "rf_random.fit(X_train, y_train)"
      ],
      "execution_count": 79,
      "outputs": [
        {
          "output_type": "execute_result",
          "data": {
            "text/plain": [
              "RandomizedSearchCV(cv=3, error_score=nan,\n",
              "                   estimator=RandomForestRegressor(bootstrap=True,\n",
              "                                                   ccp_alpha=0.0,\n",
              "                                                   criterion='mse',\n",
              "                                                   max_depth=None,\n",
              "                                                   max_features='auto',\n",
              "                                                   max_leaf_nodes=None,\n",
              "                                                   max_samples=None,\n",
              "                                                   min_impurity_decrease=0.0,\n",
              "                                                   min_impurity_split=None,\n",
              "                                                   min_samples_leaf=1,\n",
              "                                                   min_samples_split=2,\n",
              "                                                   min_weight_fraction_leaf=0.0,\n",
              "                                                   n_estimators=100,\n",
              "                                                   n_jobs=None, oob_score=Fals...\n",
              "                   iid='deprecated', n_iter=10, n_jobs=-1,\n",
              "                   param_distributions={'bootstrap': [True, False],\n",
              "                                        'max_depth': [10, 20, 30, 40, 50, 60,\n",
              "                                                      70, 80, 90, 100, 110,\n",
              "                                                      None],\n",
              "                                        'max_features': ['auto', 'sqrt'],\n",
              "                                        'min_samples_leaf': [1, 2, 4],\n",
              "                                        'min_samples_split': [2, 5, 10],\n",
              "                                        'n_estimators': [130, 180, 230]},\n",
              "                   pre_dispatch='2*n_jobs', random_state=None, refit=True,\n",
              "                   return_train_score=False, scoring=None, verbose=0)"
            ]
          },
          "metadata": {
            "tags": []
          },
          "execution_count": 79
        }
      ]
    },
    {
      "cell_type": "code",
      "metadata": {
        "colab": {
          "base_uri": "https://localhost:8080/"
        },
        "id": "FYfB0WjxQjAf",
        "outputId": "f722bdb6-5ad5-4656-98ca-52b4f86af913"
      },
      "source": [
        "print('RandomForest optmizado con RandomSearchCV')\n",
        "\n",
        "y_train_forestCV = rf_random.predict(X_train)\n",
        "y_test_forestCV = rf_random.predict(X_test)\n",
        "\n",
        "rmse_train_forestCV = np.sqrt(mean_squared_error(y_train, y_train_forestCV))\n",
        "rmse_test_forestCV = np.sqrt(mean_squared_error(y_test, y_test_forestCV))\n",
        "print(f'La raíz del error cuadrático medio en TRAIN es de ${rmse_train_forestCV}')\n",
        "print(f'La raíz del error cuadrático medio en TEST es de ${rmse_test_forestCV}')"
      ],
      "execution_count": 80,
      "outputs": [
        {
          "output_type": "stream",
          "text": [
            "RandomForest optmizado con RandomSearchCV\n",
            "La raíz del error cuadrático medio en TRAIN es de $33463.17901229912\n",
            "La raíz del error cuadrático medio en TEST es de $40912.195165857425\n"
          ],
          "name": "stdout"
        }
      ]
    },
    {
      "cell_type": "markdown",
      "metadata": {
        "id": "5O8p3g6QS093"
      },
      "source": [
        "aunque haya disminuido muy levemente el error en test, no justifica la sobre complicacion del modelado para tan poco trade off"
      ]
    },
    {
      "cell_type": "markdown",
      "metadata": {
        "id": "w4Rw1i83TESL"
      },
      "source": [
        "**Polinomial Regression**"
      ]
    },
    {
      "cell_type": "code",
      "metadata": {
        "id": "d2JyjumDTIRX"
      },
      "source": [
        "linear = LinearRegression()"
      ],
      "execution_count": 81,
      "outputs": []
    },
    {
      "cell_type": "code",
      "metadata": {
        "colab": {
          "base_uri": "https://localhost:8080/"
        },
        "id": "PgxNqbS-TLFn",
        "outputId": "772fecb1-94cd-44dd-e95b-e302b65f8c8c"
      },
      "source": [
        "\n",
        "linear.fit(X_train, y_train)"
      ],
      "execution_count": 82,
      "outputs": [
        {
          "output_type": "execute_result",
          "data": {
            "text/plain": [
              "LinearRegression(copy_X=True, fit_intercept=True, n_jobs=None, normalize=False)"
            ]
          },
          "metadata": {
            "tags": []
          },
          "execution_count": 82
        }
      ]
    },
    {
      "cell_type": "code",
      "metadata": {
        "colab": {
          "base_uri": "https://localhost:8080/"
        },
        "id": "AmbfFH3HTMp-",
        "outputId": "a13b9bd5-aade-4286-949d-8695c093ed20"
      },
      "source": [
        "print('Regresión polinómica')\n",
        "\n",
        "y_train_pred_linear = linear.predict(X_train)\n",
        "y_test_pred_linear = linear.predict(X_test)\n",
        "\n",
        "rmse_train_linear = np.sqrt(mean_squared_error(y_train, y_train_pred_linear))\n",
        "rmse_test_linear = np.sqrt(mean_squared_error(y_test, y_test_pred_linear))\n",
        "print(f'La raíz del error cuadrático medio en TRAIN es de ${rmse_train_linear}')\n",
        "print(f'La raíz del error cuadrático medio en TEST es de ${rmse_test_linear}') #el peor"
      ],
      "execution_count": 83,
      "outputs": [
        {
          "output_type": "stream",
          "text": [
            "Regresión polinómica\n",
            "La raíz del error cuadrático medio en TRAIN es de $51421.92913969761\n",
            "La raíz del error cuadrático medio en TEST es de $51468.56304396617\n"
          ],
          "name": "stdout"
        }
      ]
    },
    {
      "cell_type": "markdown",
      "metadata": {
        "id": "Rqi1xGf2TTQL"
      },
      "source": [
        "El peor modelo, aumento excesivamente el error en test y train"
      ]
    },
    {
      "cell_type": "markdown",
      "metadata": {
        "id": "eTWVpvOgTchz"
      },
      "source": [
        "**ADABoost optimizado con random search**"
      ]
    },
    {
      "cell_type": "code",
      "metadata": {
        "id": "UNP4bQ3XThzR"
      },
      "source": [
        "\n",
        "param_ada = {\n",
        " 'n_estimators': [50, 100],\n",
        " 'learning_rate' : [0.01,0.05,0.1,0.3,1],\n",
        " 'loss' : ['linear', 'square', 'exponential']\n",
        " }\n"
      ],
      "execution_count": 84,
      "outputs": []
    },
    {
      "cell_type": "code",
      "metadata": {
        "id": "R4_g1U7WTmDP"
      },
      "source": [
        "\n",
        "adaboost = RandomizedSearchCV(AdaBoostRegressor(),\n",
        "                              param_distributions = param_ada,\n",
        "                              cv=3,\n",
        "                              n_iter = 10,\n",
        "                              n_jobs=-1)"
      ],
      "execution_count": 85,
      "outputs": []
    },
    {
      "cell_type": "code",
      "metadata": {
        "colab": {
          "base_uri": "https://localhost:8080/"
        },
        "id": "lqdFLGC7TovD",
        "outputId": "13494b33-2a4c-455e-fa82-7bc34d54157b"
      },
      "source": [
        "\n",
        "adaboost.fit(X_train, y_train)"
      ],
      "execution_count": 86,
      "outputs": [
        {
          "output_type": "execute_result",
          "data": {
            "text/plain": [
              "RandomizedSearchCV(cv=3, error_score=nan,\n",
              "                   estimator=AdaBoostRegressor(base_estimator=None,\n",
              "                                               learning_rate=1.0, loss='linear',\n",
              "                                               n_estimators=50,\n",
              "                                               random_state=None),\n",
              "                   iid='deprecated', n_iter=10, n_jobs=-1,\n",
              "                   param_distributions={'learning_rate': [0.01, 0.05, 0.1, 0.3,\n",
              "                                                          1],\n",
              "                                        'loss': ['linear', 'square',\n",
              "                                                 'exponential'],\n",
              "                                        'n_estimators': [50, 100]},\n",
              "                   pre_dispatch='2*n_jobs', random_state=None, refit=True,\n",
              "                   return_train_score=False, scoring=None, verbose=0)"
            ]
          },
          "metadata": {
            "tags": []
          },
          "execution_count": 86
        }
      ]
    },
    {
      "cell_type": "code",
      "metadata": {
        "colab": {
          "base_uri": "https://localhost:8080/"
        },
        "id": "tX5wYN5UUErp",
        "outputId": "e55e0494-9bf0-449d-e9d8-ab13669f616c"
      },
      "source": [
        "print('AdaBoost optmizado con RandomSearchCV')\n",
        "\n",
        "y_train_pred_adaboost = adaboost.predict(X_train)\n",
        "y_test_pred_adaboost = adaboost.predict(X_test)\n",
        "\n",
        "rmse_train_adaboost = np.sqrt(mean_squared_error(y_train, y_train_pred_adaboost))\n",
        "rmse_test_adaboost = np.sqrt(mean_squared_error(y_test, y_test_pred_adaboost))\n",
        "\n",
        "print(f'La raíz del error cuadrático medio en TRAIN es de ${rmse_train_adaboost}')\n",
        "print(f'La raíz del error cuadrático medio en TEST es de ${rmse_test_adaboost}')"
      ],
      "execution_count": 87,
      "outputs": [
        {
          "output_type": "stream",
          "text": [
            "AdaBoost optmizado con RandomSearchCV\n",
            "La raíz del error cuadrático medio en TRAIN es de $52253.45651787416\n",
            "La raíz del error cuadrático medio en TEST es de $52248.31837543893\n"
          ],
          "name": "stdout"
        }
      ]
    },
    {
      "cell_type": "markdown",
      "metadata": {
        "id": "1J-B4K1iULjc"
      },
      "source": [
        "este modelo es oficialmente el de peor rendimiento, incluso peor que el polinomico"
      ]
    },
    {
      "cell_type": "markdown",
      "metadata": {
        "id": "IPCI6mukUSpa"
      },
      "source": [
        "**XGB Regressor**"
      ]
    },
    {
      "cell_type": "code",
      "metadata": {
        "id": "jQ2A3y-cUWzL"
      },
      "source": [
        "xg_model = XGBRegressor(objective=\"reg:squarederror\")"
      ],
      "execution_count": 88,
      "outputs": []
    },
    {
      "cell_type": "code",
      "metadata": {
        "colab": {
          "base_uri": "https://localhost:8080/"
        },
        "id": "rPvem-0DUYzy",
        "outputId": "696e7c9c-1959-4dec-aee3-03610b5e37da"
      },
      "source": [
        "\n",
        "xg_model.fit(X_train,y_train)"
      ],
      "execution_count": 89,
      "outputs": [
        {
          "output_type": "execute_result",
          "data": {
            "text/plain": [
              "XGBRegressor(base_score=0.5, booster='gbtree', colsample_bylevel=1,\n",
              "             colsample_bynode=1, colsample_bytree=1, gamma=0,\n",
              "             importance_type='gain', learning_rate=0.1, max_delta_step=0,\n",
              "             max_depth=3, min_child_weight=1, missing=None, n_estimators=100,\n",
              "             n_jobs=1, nthread=None, objective='reg:squarederror',\n",
              "             random_state=0, reg_alpha=0, reg_lambda=1, scale_pos_weight=1,\n",
              "             seed=None, silent=None, subsample=1, verbosity=1)"
            ]
          },
          "metadata": {
            "tags": []
          },
          "execution_count": 89
        }
      ]
    },
    {
      "cell_type": "code",
      "metadata": {
        "colab": {
          "base_uri": "https://localhost:8080/"
        },
        "id": "Ds3ofd5jUmLv",
        "outputId": "7f871665-61d8-40bc-a40d-cf24fdd1c67d"
      },
      "source": [
        "print('XGBRegressor')\n",
        "\n",
        "y_train_pred_xgbr = adaboost.predict(X_train)\n",
        "y_test_pred_xgbr = adaboost.predict(X_test)\n",
        "\n",
        "rmse_train_xgbr = np.sqrt(mean_squared_error(y_train, y_train_pred_xgbr))\n",
        "rmse_test_xgbr = np.sqrt(mean_squared_error(y_test, y_test_pred_xgbr))\n",
        "\n",
        "print(f'La raíz del error cuadrático medio en TRAIN es de ${rmse_train_xgbr}')\n",
        "print(f'La raíz del error cuadrático medio en TEST es de ${rmse_test_xgbr}')"
      ],
      "execution_count": 90,
      "outputs": [
        {
          "output_type": "stream",
          "text": [
            "XGBRegressor\n",
            "La raíz del error cuadrático medio en TRAIN es de $52253.45651787416\n",
            "La raíz del error cuadrático medio en TEST es de $52248.31837543893\n"
          ],
          "name": "stdout"
        }
      ]
    },
    {
      "cell_type": "markdown",
      "metadata": {
        "id": "Jh4zxssVUs5p"
      },
      "source": [
        "**XGBoost + Random Search**"
      ]
    },
    {
      "cell_type": "code",
      "metadata": {
        "id": "Kl0fJaukUymZ"
      },
      "source": [
        "parameters = {\n",
        "        'num_boost_round': [10, 25, 50],\n",
        "        'eta': [0.05, 0.1, 0.3],\n",
        "        'max_depth': [3, 4, 5],\n",
        "        'subsample': [0.9, 1.0],\n",
        "        'colsample_bytree': [0.9, 1.0],\n",
        "    }"
      ],
      "execution_count": 91,
      "outputs": []
    },
    {
      "cell_type": "code",
      "metadata": {
        "colab": {
          "base_uri": "https://localhost:8080/"
        },
        "id": "QPhk6PoBU1zl",
        "outputId": "99d5d090-7fab-40c4-d69f-b010123f8be8"
      },
      "source": [
        "\n",
        "xg_model_opt = XGBRegressor(objective ='reg:squarederror')\n",
        "\n",
        "xg_model_opt = RandomizedSearchCV(xg_model_opt, parameters, cv=5)\n",
        "\n",
        "xg_model_opt.fit(X_train,y_train)"
      ],
      "execution_count": 92,
      "outputs": [
        {
          "output_type": "execute_result",
          "data": {
            "text/plain": [
              "RandomizedSearchCV(cv=5, error_score=nan,\n",
              "                   estimator=XGBRegressor(base_score=0.5, booster='gbtree',\n",
              "                                          colsample_bylevel=1,\n",
              "                                          colsample_bynode=1,\n",
              "                                          colsample_bytree=1, gamma=0,\n",
              "                                          importance_type='gain',\n",
              "                                          learning_rate=0.1, max_delta_step=0,\n",
              "                                          max_depth=3, min_child_weight=1,\n",
              "                                          missing=None, n_estimators=100,\n",
              "                                          n_jobs=1, nthread=None,\n",
              "                                          objective='reg:squarederror',\n",
              "                                          random_state=0, reg_...\n",
              "                                          reg_lambda=1, scale_pos_weight=1,\n",
              "                                          seed=None, silent=None, subsample=1,\n",
              "                                          verbosity=1),\n",
              "                   iid='deprecated', n_iter=10, n_jobs=None,\n",
              "                   param_distributions={'colsample_bytree': [0.9, 1.0],\n",
              "                                        'eta': [0.05, 0.1, 0.3],\n",
              "                                        'max_depth': [3, 4, 5],\n",
              "                                        'num_boost_round': [10, 25, 50],\n",
              "                                        'subsample': [0.9, 1.0]},\n",
              "                   pre_dispatch='2*n_jobs', random_state=None, refit=True,\n",
              "                   return_train_score=False, scoring=None, verbose=0)"
            ]
          },
          "metadata": {
            "tags": []
          },
          "execution_count": 92
        }
      ]
    },
    {
      "cell_type": "code",
      "metadata": {
        "colab": {
          "base_uri": "https://localhost:8080/"
        },
        "id": "fxQuvJcAV38Q",
        "outputId": "035cab40-ce43-4f68-988a-b8875e3dad7e"
      },
      "source": [
        "print('XGBRegressor con RandomSearchCV')\n",
        "\n",
        "y_train_pred_xgbr2 = adaboost.predict(X_train)\n",
        "y_test_pred_xgbr2 = adaboost.predict(X_test)\n",
        "\n",
        "rmse_train_xgbr2 = np.sqrt(mean_squared_error(y_train, y_train_pred_xgbr2))\n",
        "rmse_test_xgbr2 = np.sqrt(mean_squared_error(y_test, y_test_pred_xgbr2))\n",
        "\n",
        "print(f'La raíz del error cuadrático medio en TRAIN es de ${rmse_train_xgbr2}')\n",
        "print(f'La raíz del error cuadrático medio en TEST es de ${rmse_test_xgbr2}')"
      ],
      "execution_count": 93,
      "outputs": [
        {
          "output_type": "stream",
          "text": [
            "XGBRegressor con RandomSearchCV\n",
            "La raíz del error cuadrático medio en TRAIN es de $52253.45651787416\n",
            "La raíz del error cuadrático medio en TEST es de $52248.31837543893\n"
          ],
          "name": "stdout"
        }
      ]
    },
    {
      "cell_type": "markdown",
      "metadata": {
        "id": "EqlpHKHAV8LE"
      },
      "source": [
        "# Resultados finales"
      ]
    },
    {
      "cell_type": "code",
      "metadata": {
        "colab": {
          "base_uri": "https://localhost:8080/"
        },
        "id": "1db_o8YsWApY",
        "outputId": "9a7a3ff7-6e0b-4b12-9e17-e5f333f990e0"
      },
      "source": [
        "print('DecisionTreeRegressor optimizado manualmente')\n",
        "\n",
        "print(f'RMSE en TRAIN es de ${rmse_train_tree}')\n",
        "print(f'RMSE en TEST es de ${rmse_test_tree}')\n",
        "print('-')\n",
        "print('DecisionTreeRegressor con RandomSearchCV')\n",
        "\n",
        "print(f'RMSE en TRAIN es de ${rmse_train_treeRSCV}')\n",
        "print(f'RMSE en TEST es de ${rmse_test_treeRDCV}')\n",
        "print('-------------------------------------')\n",
        "\n",
        "print('RandomForest')\n",
        "\n",
        "print(f'RMSE en TRAIN es de ${rmse_train_forest}')\n",
        "print(f'RMSE en TEST es de ${rmse_test_forest}')\n",
        "print('-')\n",
        "print('RandomForest optmizado con RandomSearchCV')\n",
        "\n",
        "print(f'RMSE en TRAIN es de ${rmse_train_forestCV}')\n",
        "print(f'RMSE en TEST es de ${rmse_test_forestCV}')\n",
        "print('-------------------------------------')\n",
        "\n",
        "\n",
        "print('Regresión polinómica')\n",
        "\n",
        "print(f'RMSE en TRAIN es de ${rmse_train_linear}')\n",
        "print(f'RMSE en TEST es de ${rmse_test_linear}') \n",
        "print('-------------------------------------')\n",
        "\n",
        "print('AdaBoost optmizado con RandomSearchCV')\n",
        "\n",
        "print(f'RMSE en TRAIN es de ${rmse_train_adaboost}')\n",
        "print(f'RMSE en TEST es de ${rmse_test_adaboost}')\n",
        "print('-------------------------------------')\n",
        "\n",
        "print('XGBRegressor')\n",
        "\n",
        "print(f'RMSE en TRAIN es de ${rmse_train_xgbr}')\n",
        "print(f'RMSE en TEST es de ${rmse_test_xgbr}')\n",
        "print('-')\n",
        "print('XGBRegressor con RandomSearchCV')\n",
        "\n",
        "print(f'RMSE en TRAIN es de ${rmse_train_xgbr2}')\n",
        "print(f'RMSE en TEST es de ${rmse_test_xgbr2}')\n",
        "print('-------------------------------------')"
      ],
      "execution_count": 94,
      "outputs": [
        {
          "output_type": "stream",
          "text": [
            "DecisionTreeRegressor optimizado manualmente\n",
            "RMSE en TRAIN es de $34532.782944198014\n",
            "RMSE en TEST es de $44371.50762263616\n",
            "-\n",
            "DecisionTreeRegressor con RandomSearchCV\n",
            "RMSE en TRAIN es de $35560.452088483646\n",
            "RMSE en TEST es de $44235.55009960354\n",
            "-------------------------------------\n",
            "RandomForest\n",
            "RMSE en TRAIN es de $31785.56214316028\n",
            "RMSE en TEST es de $40863.3819337601\n",
            "-\n",
            "RandomForest optmizado con RandomSearchCV\n",
            "RMSE en TRAIN es de $33463.17901229912\n",
            "RMSE en TEST es de $40912.195165857425\n",
            "-------------------------------------\n",
            "Regresión polinómica\n",
            "RMSE en TRAIN es de $51421.92913969761\n",
            "RMSE en TEST es de $51468.56304396617\n",
            "-------------------------------------\n",
            "AdaBoost optmizado con RandomSearchCV\n",
            "RMSE en TRAIN es de $52253.45651787416\n",
            "RMSE en TEST es de $52248.31837543893\n",
            "-------------------------------------\n",
            "XGBRegressor\n",
            "RMSE en TRAIN es de $52253.45651787416\n",
            "RMSE en TEST es de $52248.31837543893\n",
            "-\n",
            "XGBRegressor con RandomSearchCV\n",
            "RMSE en TRAIN es de $52253.45651787416\n",
            "RMSE en TEST es de $52248.31837543893\n",
            "-------------------------------------\n"
          ],
          "name": "stdout"
        }
      ]
    },
    {
      "cell_type": "markdown",
      "metadata": {
        "id": "Zd-vNKJ1WWoI"
      },
      "source": [
        "El modelo con mejor performance es el random forest , aunque su version optimizada mejora levemente, no es conveniente hacer mas complejo el modelo sin un trade off significativo"
      ]
    },
    {
      "cell_type": "markdown",
      "metadata": {
        "id": "hthAQHoKWi_T"
      },
      "source": [
        "# Parte C modelos avanzados\n",
        "Con estos resultados noto que el mejor modelo es el random forest sin optimzar, seguido del decision tree regressor optimizado\n",
        "\n",
        "Por eso lado, por tratarse de modelos avanzados elijo en este caso RandomForest\n",
        "\n",
        "Graficaré las variables con más influencia en la proyección en ambos modelos:"
      ]
    },
    {
      "cell_type": "code",
      "metadata": {
        "colab": {
          "base_uri": "https://localhost:8080/",
          "height": 753
        },
        "id": "UF4bFAB8T-Cl",
        "outputId": "a5ad3333-840d-42f0-ffa3-43fcaf035c5f"
      },
      "source": [
        "modelos = ['Árbol Optimizado', 'Random Forest', 'Random Forest optimizado',]\n",
        "\n",
        "for i, model in enumerate([tree_opt, forest, rf_random]):\n",
        "    y_train_pred = model.predict(X_train)\n",
        "    y_test_pred = model.predict(X_test)\n",
        "    \n",
        "    \n",
        "    print(f'Modelo: {modelos[i]}')\n",
        "\n",
        "    rmse_train = np.sqrt(mean_squared_error(y_train, y_train_pred))\n",
        "    rmse_test = np.sqrt(mean_squared_error(y_test, y_test_pred))\n",
        "    print(f'Raíz del error cuadrático medio en Train: {rmse_train}')\n",
        "    print(f'Raíz del error cuadrático medio en Test: {rmse_test}')\n",
        "    \n",
        "    plt.figure(figsize = (15,2))\n",
        "\n",
        "    plt.subplot(1,2,1)\n",
        "    sns.distplot(y_train - y_train_pred, bins = 20, label = 'train')\n",
        "    sns.distplot(y_test - y_test_pred, bins = 20, label = 'test')\n",
        "    plt.xlabel('Errores')\n",
        "    plt.legend()\n",
        "\n",
        "\n",
        "    ax = plt.subplot(1,2,2)\n",
        "    ax.scatter(y_test,y_test_pred, s =2)\n",
        "    \n",
        "    lims = [\n",
        "    np.min([ax.get_xlim(), ax.get_ylim()]),  \n",
        "    np.max([ax.get_xlim(), ax.get_ylim()]), \n",
        "    ]\n",
        "    \n",
        "    ax.plot(lims, lims, 'k-', alpha=0.75, zorder=0)\n",
        "    plt.xlabel('y (test)')\n",
        "    plt.ylabel('y_pred (test)')\n",
        "    \n",
        "    plt.tight_layout()\n",
        "    plt.show()"
      ],
      "execution_count": 95,
      "outputs": [
        {
          "output_type": "stream",
          "text": [
            "Modelo: Árbol Optimizado\n",
            "Raíz del error cuadrático medio en Train: 35560.452088483646\n",
            "Raíz del error cuadrático medio en Test: 44235.55009960354\n"
          ],
          "name": "stdout"
        },
        {
          "output_type": "stream",
          "text": [
            "/usr/local/lib/python3.7/dist-packages/seaborn/distributions.py:2557: FutureWarning: `distplot` is a deprecated function and will be removed in a future version. Please adapt your code to use either `displot` (a figure-level function with similar flexibility) or `histplot` (an axes-level function for histograms).\n",
            "  warnings.warn(msg, FutureWarning)\n",
            "/usr/local/lib/python3.7/dist-packages/seaborn/distributions.py:2557: FutureWarning: `distplot` is a deprecated function and will be removed in a future version. Please adapt your code to use either `displot` (a figure-level function with similar flexibility) or `histplot` (an axes-level function for histograms).\n",
            "  warnings.warn(msg, FutureWarning)\n"
          ],
          "name": "stderr"
        },
        {
          "output_type": "display_data",
          "data": {
            "image/png": "[encoded data removed]",
            "text/plain": [
              "<Figure size 1080x144 with 2 Axes>"
            ]
          },
          "metadata": {
            "tags": [],
            "needs_background": "light"
          }
        },
        {
          "output_type": "stream",
          "text": [
            "Modelo: Random Forest\n",
            "Raíz del error cuadrático medio en Train: 31785.56214316028\n",
            "Raíz del error cuadrático medio en Test: 40863.3819337601\n"
          ],
          "name": "stdout"
        },
        {
          "output_type": "stream",
          "text": [
            "/usr/local/lib/python3.7/dist-packages/seaborn/distributions.py:2557: FutureWarning: `distplot` is a deprecated function and will be removed in a future version. Please adapt your code to use either `displot` (a figure-level function with similar flexibility) or `histplot` (an axes-level function for histograms).\n",
            "  warnings.warn(msg, FutureWarning)\n",
            "/usr/local/lib/python3.7/dist-packages/seaborn/distributions.py:2557: FutureWarning: `distplot` is a deprecated function and will be removed in a future version. Please adapt your code to use either `displot` (a figure-level function with similar flexibility) or `histplot` (an axes-level function for histograms).\n",
            "  warnings.warn(msg, FutureWarning)\n"
          ],
          "name": "stderr"
        },
        {
          "output_type": "display_data",
          "data": {
            "image/png": "[encoded data removed]",
            "text/plain": [
              "<Figure size 1080x144 with 2 Axes>"
            ]
          },
          "metadata": {
            "tags": [],
            "needs_background": "light"
          }
        },
        {
          "output_type": "stream",
          "text": [
            "Modelo: Random Forest optimizado\n",
            "Raíz del error cuadrático medio en Train: 33463.17901229912\n",
            "Raíz del error cuadrático medio en Test: 40912.195165857425\n"
          ],
          "name": "stdout"
        },
        {
          "output_type": "stream",
          "text": [
            "/usr/local/lib/python3.7/dist-packages/seaborn/distributions.py:2557: FutureWarning: `distplot` is a deprecated function and will be removed in a future version. Please adapt your code to use either `displot` (a figure-level function with similar flexibility) or `histplot` (an axes-level function for histograms).\n",
            "  warnings.warn(msg, FutureWarning)\n",
            "/usr/local/lib/python3.7/dist-packages/seaborn/distributions.py:2557: FutureWarning: `distplot` is a deprecated function and will be removed in a future version. Please adapt your code to use either `displot` (a figure-level function with similar flexibility) or `histplot` (an axes-level function for histograms).\n",
            "  warnings.warn(msg, FutureWarning)\n"
          ],
          "name": "stderr"
        },
        {
          "output_type": "display_data",
          "data": {
            "image/png": "[encoded data removed]",
            "text/plain": [
              "<Figure size 1080x144 with 2 Axes>"
            ]
          },
          "metadata": {
            "tags": [],
            "needs_background": "light"
          }
        }
      ]
    },
    {
      "cell_type": "code",
      "metadata": {
        "colab": {
          "base_uri": "https://localhost:8080/",
          "height": 1000
        },
        "id": "QJnFtOi-XEWX",
        "outputId": "97f1b874-d4e7-41d6-aab5-d8a0f8f20a1f"
      },
      "source": [
        "\n",
        "importances = tree_regressor.feature_importances_\n",
        "indices = np.argsort(importances)[::-1]\n",
        "columns = data_scaled.columns\n",
        "\n",
        "plt.figure(figsize = (8,25))\n",
        "plt.title(\"Orden de Importancia de las variables en DecisionTreeRegressor con random search\", fontsize= 20)\n",
        "plt.yticks(rotation= 0, fontsize= 10, horizontalalignment= 'right')\n",
        "sns.barplot(y=columns[indices], x=importances[indices])\n",
        "plt.show()"
      ],
      "execution_count": null,
      "outputs": [
        {
          "output_type": "display_data",
          "data": {
            "image/png": "[encoded data removed]",
            "text/plain": [
              "<Figure size 576x1800 with 1 Axes>"
            ]
          },
          "metadata": {
            "tags": [],
            "needs_background": "light"
          }
        }
      ]
    },
    {
      "cell_type": "code",
      "metadata": {
        "colab": {
          "base_uri": "https://localhost:8080/",
          "height": 1000
        },
        "id": "cE5kMDdFYD_A",
        "outputId": "43abfec1-5753-43c6-83d9-f408db1121cb"
      },
      "source": [
        "\n",
        "importances = forest.feature_importances_\n",
        "indices = np.argsort(importances)[::-1]\n",
        "columns = data_scaled.columns\n",
        "\n",
        "plt.figure(figsize = (8,25))\n",
        "plt.title(\"Orden de Importancia de las variables en RandomForest\", fontsize= 20)\n",
        "plt.yticks(rotation= 0, fontsize= 10, horizontalalignment= 'right')\n",
        "sns.barplot(y=columns[indices], x=importances[indices])\n",
        "plt.show()"
      ],
      "execution_count": null,
      "outputs": [
        {
          "output_type": "display_data",
          "data": {
            "image/png": "[encoded data removed]",
            "text/plain": [
              "<Figure size 576x1800 with 1 Axes>"
            ]
          },
          "metadata": {
            "tags": [],
            "needs_background": "light"
          }
        }
      ]
    },
    {
      "cell_type": "markdown",
      "metadata": {
        "id": "fNGpHqUTYjxC"
      },
      "source": [
        "en conclusion basicamente las mismas features fueron las de mayor importancia en ambos modelos, las superficies, Casa que infiero que esta ahi por el hecho de que sus superficies son generalmente superiores a los dptos y ph, y bedrooms que tiene logica\n",
        "\n",
        "Sigo creyendo que errores de mas de 30kusd para precios de propiedades es demasiado grande, y que se podria mejorar el modelo quizas usando mas fuentes de datos, para hacer un data wrangling, de por ejemplo lugares de interes cerca de las propiedades, año de construccion, o acceso a transporte publico.\n",
        "\n",
        "Tambien creo que no se debio dropear los barrios y zonas de GBA, o por el contrario tener modelos por zonas y por tipo de propiedad."
      ]
    }
  ]
}